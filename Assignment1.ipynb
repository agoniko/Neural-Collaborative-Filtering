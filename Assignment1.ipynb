{
 "cells": [
  {
   "cell_type": "code",
   "execution_count": 1,
   "metadata": {},
   "outputs": [
    {
     "data": {
      "text/plain": [
       "<torch._C.Generator at 0x7f567087e2f0>"
      ]
     },
     "execution_count": 1,
     "metadata": {},
     "output_type": "execute_result"
    }
   ],
   "source": [
    "import os\n",
    "import time\n",
    "import random\n",
    "import argparse\n",
    "import numpy as np \n",
    "import pandas as pd \n",
    "import torch\n",
    "import torch.nn as nn\n",
    "import torch.optim as optim\n",
    "import torch.utils.data as data\n",
    "from torch.utils.data import Dataset, DataLoader\n",
    "import math\n",
    "from tqdm import tqdm\n",
    "import matplotlib.pyplot as plt\n",
    "from ray import tune\n",
    "from ray.tune import CLIReporter\n",
    "from ray.tune.schedulers import ASHAScheduler\n",
    "from functools import partial\n",
    "from neumf import NeuMF\n",
    "\n",
    "\n",
    "np.random.seed(7)\n",
    "torch.manual_seed(0)\n"
   ]
  },
  {
   "cell_type": "code",
   "execution_count": 2,
   "metadata": {},
   "outputs": [
    {
     "data": {
      "text/plain": [
       "device(type='cpu')"
      ]
     },
     "execution_count": 2,
     "metadata": {},
     "output_type": "execute_result"
    }
   ],
   "source": [
    "use_cuda = torch.cuda.is_available()\n",
    "device = torch.device(\"cuda:0\" if use_cuda else \"cpu\")\n",
    "device"
   ]
  },
  {
   "attachments": {},
   "cell_type": "markdown",
   "metadata": {},
   "source": [
    "# Preliminary Actions"
   ]
  },
  {
   "attachments": {},
   "cell_type": "markdown",
   "metadata": {},
   "source": [
    "## PATH definition"
   ]
  },
  {
   "cell_type": "code",
   "execution_count": 3,
   "metadata": {},
   "outputs": [],
   "source": [
    "# The path of the data\n",
    "PATH = '/home/agoniko/Desktop/Uni/DEEP_LEARNING/Neural_collaborative_filtering/Assignment1/ml-100k/u.data'\n",
    "MODEL_PATH = '/home/agoniko/Desktop/Uni/DEEP_LEARNING/Neural_collaborative_filtering/Assignment1/models/'\n"
   ]
  },
  {
   "attachments": {},
   "cell_type": "markdown",
   "metadata": {},
   "source": [
    "## Parameters definition"
   ]
  },
  {
   "cell_type": "code",
   "execution_count": 4,
   "metadata": {},
   "outputs": [],
   "source": [
    "#@title hyperparameters definition\n",
    "#collapse-hide\n",
    "parser = argparse.ArgumentParser()\n",
    "parser.add_argument(\"--seed\", \n",
    "\ttype=int, \n",
    "\tdefault=42, \n",
    "\thelp=\"Seed\")\n",
    "parser.add_argument(\"--lr\", \n",
    "\ttype=float, \n",
    "\tdefault=0.001, \n",
    "\thelp=\"learning rate\")\n",
    "parser.add_argument(\"--dropout\", \n",
    "\ttype=float,\n",
    "\tdefault=0.2,  \n",
    "\thelp=\"dropout rate\")\n",
    "parser.add_argument(\"--batch_size\", \n",
    "\ttype=int, \n",
    "\tdefault=256, \n",
    "\thelp=\"batch size for training\")\n",
    "parser.add_argument(\"--epochs\", \n",
    "\ttype=int,\n",
    "\tdefault=30,  \n",
    "\thelp=\"training epoches\")\n",
    "parser.add_argument(\"--top_k\", \n",
    "\ttype=int, \n",
    "\tdefault=10, \n",
    "\thelp=\"compute metrics@top_k\")\n",
    "parser.add_argument(\"--factor_num\", \n",
    "\ttype=int,\n",
    "\tdefault=32, \n",
    "\thelp=\"predictive factors numbers in the model\")\n",
    "parser.add_argument(\"--layers\",\n",
    "    nargs='+', \n",
    "    default=[32,16,8],\n",
    "    help=\"MLP layers. Note that the first layer is the concatenation of user \\\n",
    "    and item embeddings. So layers[0]/2 is the embedding size.\")\n",
    "parser.add_argument(\"--out\", \n",
    "\tdefault=True,\n",
    "\thelp=\"save model or not\")\n",
    "\n",
    "\n",
    "args = parser.parse_args(\"\")"
   ]
  },
  {
   "attachments": {},
   "cell_type": "markdown",
   "metadata": {},
   "source": [
    "## Data preprocessing"
   ]
  },
  {
   "cell_type": "code",
   "execution_count": 5,
   "metadata": {},
   "outputs": [],
   "source": [
    "# Train dataset is {train_positive} Union {train_negative}\n",
    "class TrainDataset(Dataset):\n",
    "    def __init__(self, table):\n",
    "        self.users_list, self.items_list, self.relevance_list = [], [], []\n",
    "        \n",
    "        # For each user\n",
    "        for _, user_id, _, train_positive, _, train_negative, _, _ in table.itertuples():\n",
    "\n",
    "            # Add positive train interactions\n",
    "            for item in train_positive:\n",
    "                self.users_list.append(user_id)\n",
    "                self.items_list.append(item)\n",
    "                self.relevance_list.append(1.0)\n",
    "\n",
    "            # Add negative train interactions\n",
    "            for item in train_negative:\n",
    "                self.users_list.append(user_id)\n",
    "                self.items_list.append(item)\n",
    "                self.relevance_list.append(0.0)\n",
    "\n",
    "    def __len__(self):\n",
    "        return len(self.users_list)\n",
    "\n",
    "    def __getitem__(self, idx):\n",
    "        user_id = torch.tensor(self.users_list[idx], dtype = torch.long)\n",
    "        item_id = torch.tensor(self.items_list[idx], dtype = torch.long)\n",
    "        relevance = torch.tensor(self.relevance_list[idx], dtype = torch.float)\n",
    "\n",
    "        return user_id, item_id, relevance\n",
    "\n",
    "# Validation dataset is {valid_positive} Union {valid_negative}\n",
    "class ValidationDataset(Dataset):\n",
    "    def __init__(self, table):\n",
    "        self.users_list, self.items_list, self.relevance_list = [], [], []\n",
    "        \n",
    "        # For each user\n",
    "        for _, user_id, _, _, _, _, valid_positive, valid_negative in table.itertuples():\n",
    "\n",
    "            # Add positive validation interactions\n",
    "            for item in valid_positive:\n",
    "                self.users_list.append(user_id)\n",
    "                self.items_list.append(item)\n",
    "                self.relevance_list.append(1.0)\n",
    "\n",
    "            # Add negative validation interactions\n",
    "            for item in valid_negative:\n",
    "                self.users_list.append(user_id)\n",
    "                self.items_list.append(item)\n",
    "                self.relevance_list.append(0.0)\n",
    "\n",
    "    def __len__(self):\n",
    "        return len(self.users_list)\n",
    "\n",
    "    def __getitem__(self, idx):\n",
    "        user_id = torch.tensor(self.users_list[idx], dtype = torch.long)\n",
    "        item_id = torch.tensor(self.items_list[idx], dtype = torch.long)\n",
    "        relevance = torch.tensor(self.relevance_list[idx], dtype = torch.float)\n",
    "\n",
    "        return user_id, item_id, relevance\n",
    "\n",
    "# Complete train dataset is {train_positive} Union {train_negative} Union {valid_positive} Union {valid_negative}\n",
    "class CompleteTrainDataset(Dataset):\n",
    "    def __init__(self, train_dataset, valid_dataset):\n",
    "        self.users_list = []\n",
    "        self.users_list.extend(train_dataset.users_list)\n",
    "        self.users_list.extend(valid_dataset.users_list)\n",
    "\n",
    "        self.items_list = []\n",
    "        self.items_list.extend(train_dataset.items_list)\n",
    "        self.items_list.extend(valid_dataset.items_list)\n",
    "\n",
    "        self.relevance_list = []\n",
    "        self.relevance_list.extend(train_dataset.relevance_list)\n",
    "        self.relevance_list.extend(valid_dataset.relevance_list)\n",
    "\n",
    "        self.len = len(train_dataset) + len(valid_dataset)\n",
    "\n",
    "    def __len__(self):\n",
    "        return self.len\n",
    "\n",
    "    def __getitem__(self, idx):\n",
    "        user_id = torch.tensor(self.users_list[idx], dtype = torch.long)\n",
    "        item_id = torch.tensor(self.items_list[idx], dtype = torch.long)\n",
    "        relevance = torch.tensor(self.relevance_list[idx], dtype = torch.float)\n",
    "\n",
    "        return user_id, item_id, relevance\n",
    "\n",
    "# Test dataset is {test_positive} Union {100 random samples from unknown}\n",
    "class TestDataset(Dataset):\n",
    "    def __init__(self, table, num_unknown=100):\n",
    "        self.num_unknown = num_unknown\n",
    "        self.users_list, self.items_list, self.relevance_list = [], [], []\n",
    "        \n",
    "        # For each user\n",
    "        for _, user_id, test_positive, _, unknown, _, _, _ in table.itertuples():\n",
    "\n",
    "            # Add positive test interactions\n",
    "            for item in test_positive:\n",
    "                self.users_list.append(user_id)\n",
    "                self.items_list.append(item)\n",
    "                self.relevance_list.append(1.0)\n",
    "\n",
    "            # Add sampled unknown interactions\n",
    "            for item in random.sample(list(unknown), self.num_unknown):\n",
    "                self.users_list.append(user_id)\n",
    "                self.items_list.append(item)\n",
    "                self.relevance_list.append(np.nan)\n",
    "\n",
    "    def __len__(self):\n",
    "        return len(self.users_list)\n",
    "\n",
    "    def __getitem__(self, idx):\n",
    "        user_id = torch.tensor(self.users_list[idx], dtype = torch.long)\n",
    "        item_id = torch.tensor(self.items_list[idx], dtype = torch.long)\n",
    "        relevance = torch.tensor(self.relevance_list[idx], dtype = torch.float)\n",
    "\n",
    "        return user_id, item_id, relevance"
   ]
  },
  {
   "cell_type": "code",
   "execution_count": 6,
   "metadata": {},
   "outputs": [],
   "source": [
    "def get_num_users_items(path):\n",
    "        ratings = pd.read_csv(path,\n",
    "                        sep = '\\t',\n",
    "                        names = ['user_id', 'item_id', 'rating', 'timestamp'],\n",
    "                        )\n",
    "        return (ratings['user_id'].nunique(), ratings['item_id'].nunique())"
   ]
  },
  {
   "cell_type": "code",
   "execution_count": 7,
   "metadata": {},
   "outputs": [],
   "source": [
    "def data_loaders_from_data(path, batch_size):\n",
    "    ratings = pd.read_csv(path,\n",
    "                        sep = '\\t',\n",
    "                        names = ['user_id', 'item_id', 'rating', 'timestamp'],\n",
    "                        )\n",
    "    # THEORETICAL FRAMEWORK\n",
    "    #\n",
    "    # The dataset contains ratings of items by users\n",
    "    #\n",
    "    # For each couple (u, i) of a user and a item, we consider\n",
    "    # the discrete random variable R(u, i) = \"item i is relevant for user u\"\n",
    "    # R(u, i) € {0, 1} for every u, i\n",
    "    # In this scenario \"relevant\" doesn't assume the usual meaning\n",
    "    # it refers to a \"relevance\" by a reccomender system point of view\n",
    "    # \n",
    "    # If a user u rated an item i, then he interacted with it\n",
    "    # in this case we assume to have a realization r(u, i) = 1 of R(u, i)\n",
    "    #\n",
    "    # Since we only have items ratings in our dataset, we don't have any \"negative\"\n",
    "    # realization of R(u, i), i.e. any realization r(u, i) = 0\n",
    "    #\n",
    "    # For this reason we make a sampling from the unrealized variables, i.e\n",
    "    # the variables R(u, i) such in our dataset there is not a rating of item i by user u\n",
    "    #\n",
    "    # Given our final dataset, consisting in realizations of a subset of the variables {R(u, i): u user, i item}\n",
    "    # we want to maximize the likelihood function of the model, i.e.\n",
    "    # L = product of p(R(u, i) = r(u, i))\n",
    "    #   = (product of p(R(u, i) = 1)) x (product of p(R(u, i) = 0)   splitting the products between positive and negative realizations\n",
    "    #\n",
    "    # Our model returns the value f(u, i) = p(R(u, i) = 1) i.e. the \"probability of relevance of item i for user u\"\n",
    "    # Passing to maximize the log likelihood function we want to maximize:\n",
    "    # log L = (sum of log p(R(u, i) = 1)) + (sum of log p(R(u,i) = 0))\n",
    "    #       = (sum of log p(R(u, i) = 1)) + (sum of log (1 - p(R(u, i) = 1)))\n",
    "    #       = (sum of log f(u, i)) + (sum of log (1 - f(u, i)))\n",
    "    #       = BCE of f\n",
    "\n",
    "    num_users = ratings['user_id'].nunique()\n",
    "    num_items = ratings['item_id'].nunique()\n",
    "\n",
    "    known_positive_size_list = list(ratings.groupby('user_id').size())\n",
    "\n",
    "    # I want user indexing to start from 0\n",
    "    ratings['user_id'] = ratings['user_id'] - 1\n",
    "\n",
    "    # I want item indexing to start from 0\n",
    "    ratings['item_id'] = ratings['item_id'] - 1\n",
    "\n",
    "    # For each user consider the set of items of which we know he interacted with\n",
    "    relevance_table = ratings.groupby('user_id')['item_id'].apply(set).reset_index().rename(columns = {'item_id': 'known_positive'})\n",
    "\n",
    "    # Set of all items\n",
    "    items_set = set(range(num_items))\n",
    "\n",
    "    # For each user consider the set of items of which we have NO interaction information\n",
    "    relevance_table['unknown'] = relevance_table['known_positive'].apply(lambda x: items_set - x)\n",
    "\n",
    "    # We don't know any negative interaction\n",
    "    # We create them by sampling:\n",
    "\n",
    "    # For each user\n",
    "    #     Random sample items for each known_positive\n",
    "    #     Assume that the probability of interaction for those items with the user is 0.0\n",
    "\n",
    "    # How many negative interactions to add for each user\n",
    "    def num_ng(user_id):\n",
    "        known_positive_size = known_positive_size_list[user_id]\n",
    "        if known_positive_size <= 50:\n",
    "            return known_positive_size * 4\n",
    "        if known_positive_size <= 100:\n",
    "            return known_positive_size * 2\n",
    "        if known_positive_size <= 200:\n",
    "            return known_positive_size\n",
    "        return 10\n",
    "\n",
    "    relevance_table['known_negative'] = relevance_table.apply(lambda row: set(random.sample(list(row['unknown']), num_ng(row['user_id']))), axis = 'columns')\n",
    "    relevance_table['unknown']  = relevance_table['unknown'] - relevance_table['known_negative']\n",
    "\n",
    "    # Put aside the last known positive interactions for testing models(i.e. leave-one-out evaluation method)\n",
    "    # How to do it:\n",
    "\n",
    "    #     Add column ranking how old is the interaction\n",
    "    ratings['oldness'] = ratings['timestamp'].groupby(ratings['user_id']).rank(method = 'first', ascending = False)\n",
    "\n",
    "    #     Get the most recent interaction for each user\n",
    "    most_recent_interactions = ratings.groupby('oldness').get_group(1.0)\n",
    "\n",
    "    #     Create column to add to relevance_table\n",
    "    last_known_positive = most_recent_interactions.groupby('user_id')['item_id'].apply(set).reset_index().rename(columns = {'item_id': 'last_known_positive'})\n",
    "\n",
    "    #     Add the column\n",
    "    relevance_table = pd.merge(last_known_positive, relevance_table, on = 'user_id')\n",
    "    relevance_table['known_positive'] = relevance_table['known_positive'] - relevance_table['last_known_positive']\n",
    "\n",
    "    # Rename some columns\n",
    "    relevance_table.rename(columns = {'last_known_positive' : 'test_positive', 'known_positive': 'train_positive', 'known_negative': 'train_negative'}, inplace='True')\n",
    "\n",
    "    # Validation data\n",
    "    relevance_table['validation'] = relevance_table.apply(lambda row: set(random.sample(list(row['train_positive'] | row['train_negative']), 1)), axis = 'columns')\n",
    "\n",
    "    relevance_table['valid_positive'] = relevance_table.apply(lambda row: row['validation'] & row['train_positive'], axis = 'columns')\n",
    "    relevance_table['valid_negative'] = relevance_table.apply(lambda row: row['validation'] & row['train_negative'], axis = 'columns')\n",
    "\n",
    "    relevance_table['train_positive']  = relevance_table['train_positive'] - relevance_table['validation']\n",
    "    relevance_table['train_negative']  = relevance_table['train_negative'] - relevance_table['validation']\n",
    "\n",
    "    relevance_table.drop(columns = 'validation', inplace = True)\n",
    "\n",
    "    #print(relevance_table)\n",
    "\n",
    "    train_dataset = TrainDataset(relevance_table)\n",
    "    validation_dataset = ValidationDataset(relevance_table)\n",
    "\n",
    "    train_loader = DataLoader(train_dataset, batch_size = batch_size, shuffle = True)\n",
    "    valid_loader = DataLoader(validation_dataset, batch_size = batch_size, shuffle = True)\n",
    "    complete_train_loader = DataLoader(CompleteTrainDataset(train_dataset, validation_dataset), batch_size = batch_size, shuffle = True)\n",
    "    test_loader = DataLoader(TestDataset(relevance_table), batch_size = 101, shuffle = False)\n",
    "\n",
    "    return train_loader, valid_loader, complete_train_loader, test_loader"
   ]
  },
  {
   "cell_type": "code",
   "execution_count": 8,
   "metadata": {},
   "outputs": [
    {
     "data": {
      "text/plain": [
       "<torch.utils.data.dataloader.DataLoader at 0x7f56b84d2890>"
      ]
     },
     "execution_count": 8,
     "metadata": {},
     "output_type": "execute_result"
    }
   ],
   "source": [
    "train_loader, valid_loader, complete_train_loader, test_loader = data_loaders_from_data(PATH, batch_size = 256)\n",
    "num_users, num_items = get_num_users_items(PATH)\n",
    "train_loader"
   ]
  },
  {
   "attachments": {},
   "cell_type": "markdown",
   "metadata": {},
   "source": [
    "## Evaluation Metrics"
   ]
  },
  {
   "cell_type": "code",
   "execution_count": 9,
   "metadata": {},
   "outputs": [],
   "source": [
    "def hit(ng_item, pred_items):\n",
    "\tif ng_item in pred_items:\n",
    "\t\treturn 1\n",
    "\treturn 0\n",
    "\n",
    "\n",
    "def ndcg(ng_item, pred_items):\n",
    "\tif ng_item in pred_items:\n",
    "\t\tindex = pred_items.index(ng_item)\n",
    "\t\treturn np.reciprocal(np.log2(index+2))\n",
    "\treturn 0\n",
    "\n",
    "\n",
    "def metrics(model, test_loader, top_k, device):\n",
    "\tHR, NDCG = [], []\n",
    "\n",
    "\tfor user, item, label in test_loader:\n",
    "\t\tuser = user.to(device)\n",
    "\t\titem = item.to(device)\n",
    "\n",
    "\t\tpredictions = model(user, item)\n",
    "\t\t_, indices = torch.topk(predictions, top_k)\n",
    "\t\trecommends = torch.take(\n",
    "\t\t\t\titem, indices).cpu().numpy().tolist()\n",
    "\n",
    "\t\tng_item = item[0].item() # leave one-out evaluation has only one item per user\n",
    "\t\tHR.append(hit(ng_item, recommends))\n",
    "\t\tNDCG.append(ndcg(ng_item, recommends))\n",
    "\n",
    "\treturn np.mean(HR), np.mean(NDCG)"
   ]
  },
  {
   "attachments": {},
   "cell_type": "markdown",
   "metadata": {},
   "source": [
    "# Models Definition\n"
   ]
  },
  {
   "attachments": {},
   "cell_type": "markdown",
   "metadata": {},
   "source": [
    "### Training function for GMF and MLP models"
   ]
  },
  {
   "cell_type": "code",
   "execution_count": 10,
   "metadata": {},
   "outputs": [],
   "source": [
    "#trains and save the model and returns the lists of train_loss and validation_loss \n",
    "def train_model(model:nn.Module, train_loader: DataLoader, valid_loader: DataLoader, args):\n",
    "    model = model.to(device)\n",
    "\n",
    "    loss_function = nn.BCELoss()\n",
    "    optimizer = optim.Adam(model.parameters(), lr=args.lr)\n",
    "\n",
    "    # train, evaluation\n",
    "    best_valid_loss = math.inf\n",
    "    train_loss, valid_loss = [], []\n",
    "\n",
    "    for epoch in tqdm(range(args.epochs)):\n",
    "        model.train() # Enable dropout (if have).\n",
    "        start_time = time.time()\n",
    "\n",
    "        intermediate_train_loss = []\n",
    "        for user, item, label in train_loader:\n",
    "            user = user.to(device)\n",
    "            item = item.to(device)\n",
    "            label = label.to(device)\n",
    "\n",
    "            optimizer.zero_grad()\n",
    "            prediction = model(user, item)\n",
    "            loss = loss_function(prediction, label)\n",
    "            loss.backward()\n",
    "            optimizer.step()\n",
    "            intermediate_train_loss.append(loss.cpu().detach().item())\n",
    "            #writer.add_scalar('loss/Train_loss', loss.item(), epoch)\n",
    "\n",
    "        train_loss.append(np.array(intermediate_train_loss).mean())\n",
    "\n",
    "        model.eval()\n",
    "\n",
    "        intermediate_valid_loss = []\n",
    "        for user, item, label in valid_loader:\n",
    "            user = user.to(device)\n",
    "            item = item.to(device)\n",
    "            label = label.to(device)\n",
    "\n",
    "            prediction = model(user, item)\n",
    "            loss = loss_function(prediction, label)\n",
    "\n",
    "            intermediate_valid_loss.append(loss.cpu().detach().item())\n",
    "\n",
    "        valid_loss.append(np.array(intermediate_valid_loss).mean())\n",
    "        if valid_loss[epoch] < best_valid_loss:\n",
    "            best_valid_loss = valid_loss[epoch]\n",
    "            if args.out:\n",
    "                if not os.path.exists(MODEL_PATH):\n",
    "                    os.mkdir(MODEL_PATH)\n",
    "                torch.save(model, \n",
    "                    '{}{}{}.pt'.format(MODEL_PATH, model.__class__.__name__, model.factor_num))\n",
    "                \n",
    "    losses = pd.DataFrame({\"train loss\":train_loss, \"valid loss\": valid_loss}, index=range(1, args.epochs+1))\n",
    "    losses.to_csv('{}{}{}'.format(MODEL_PATH, model.__class__.__name__, model.factor_num))\n",
    "    return train_loss, valid_loss\n"
   ]
  },
  {
   "attachments": {},
   "cell_type": "markdown",
   "metadata": {},
   "source": [
    "## General Matrix Factorization (GMF)"
   ]
  },
  {
   "cell_type": "code",
   "execution_count": 11,
   "metadata": {},
   "outputs": [],
   "source": [
    "class GMF(nn.Module):\n",
    "    def __init__(self, args, num_users, num_items):\n",
    "        super(GMF, self).__init__()\n",
    "        self.num_users = num_users\n",
    "        self.num_items = num_items\n",
    "        self.factor_num = args.factor_num\n",
    "\n",
    "        self.embedding_user = nn.Embedding(num_embeddings=self.num_users, embedding_dim=self.factor_num)\n",
    "        self.embedding_item = nn.Embedding(num_embeddings=self.num_items, embedding_dim=self.factor_num)\n",
    "\n",
    "        self.affine_output = nn.Linear(in_features=self.factor_num, out_features=1)\n",
    "        self.logistic = nn.Sigmoid()\n",
    "\n",
    "    def forward(self, user_indices, item_indices):\n",
    "        user_embedding = self.embedding_user(user_indices)\n",
    "        item_embedding = self.embedding_item(item_indices)\n",
    "        element_product = torch.mul(user_embedding, item_embedding)\n",
    "        logits = self.affine_output(element_product)\n",
    "        rating = self.logistic(logits)\n",
    "        return rating.squeeze()\n",
    "\n",
    "    def init_weight(self):\n",
    "        pass"
   ]
  },
  {
   "attachments": {},
   "cell_type": "markdown",
   "metadata": {},
   "source": [
    "### Training and save of GMF model"
   ]
  },
  {
   "cell_type": "code",
   "execution_count": null,
   "metadata": {},
   "outputs": [],
   "source": [
    "gmf_model = GMF(args, num_users, num_items)\n",
    "train_loss, valid_loss = train_model(gmf_model, train_loader, valid_loader,args)\n",
    "pass"
   ]
  },
  {
   "attachments": {},
   "cell_type": "markdown",
   "metadata": {},
   "source": [
    "## Multi Layer Perceptron (MLP)"
   ]
  },
  {
   "cell_type": "code",
   "execution_count": 13,
   "metadata": {},
   "outputs": [],
   "source": [
    "class MLP(nn.Module):\n",
    "    def __init__(self, args, num_users, num_items):\n",
    "        super(MLP, self).__init__()\n",
    "        self.num_users = num_users\n",
    "        self.num_items = num_items\n",
    "        self.factor_num = args.factor_num\n",
    "        self.layers = args.layers\n",
    "\n",
    "        self.embedding_user = nn.Embedding(num_embeddings=self.num_users, embedding_dim=self.factor_num)\n",
    "        self.embedding_item = nn.Embedding(num_embeddings=self.num_items, embedding_dim=self.factor_num)\n",
    "\n",
    "        self.fc_layers = nn.ModuleList()\n",
    "        self.fc_layers.append(nn.Linear(self.factor_num*2, self.layers[0]))\n",
    "\n",
    "        for in_size, out_size in zip(self.layers[:-1], self.layers[1:]):\n",
    "            self.fc_layers.append(nn.Linear(in_size, out_size))\n",
    "\n",
    "                                \n",
    "        self.affine_output = nn.Linear(in_features=self.layers[-1], out_features=1)\n",
    "        self.logistic = nn.Sigmoid()\n",
    "\n",
    "    def forward(self, user_indices, item_indices):\n",
    "        user_embedding = self.embedding_user(user_indices)\n",
    "        item_embedding = self.embedding_item(item_indices)\n",
    "        vector = torch.cat([user_embedding, item_embedding], dim=-1)  # the concat latent vector\n",
    "        for idx, _ in enumerate(range(len(self.fc_layers))):\n",
    "            vector = self.fc_layers[idx](vector)\n",
    "            vector = nn.ReLU()(vector)\n",
    "            # vector = nn.BatchNorm1d()(vector)\n",
    "            # vector = nn.Dropout(p=0.5)(vector)\n",
    "        logits = self.affine_output(vector)\n",
    "        rating = self.logistic(logits)\n",
    "        return rating.squeeze()"
   ]
  },
  {
   "attachments": {},
   "cell_type": "markdown",
   "metadata": {},
   "source": [
    "### Training and Save of MLP model"
   ]
  },
  {
   "cell_type": "code",
   "execution_count": 52,
   "metadata": {},
   "outputs": [
    {
     "name": "stderr",
     "output_type": "stream",
     "text": [
      "100%|██████████| 30/30 [02:12<00:00,  4.42s/it]\n"
     ]
    }
   ],
   "source": [
    "args.factor_num = 8\n",
    "mlp_model = MLP(args, num_users, num_items)\n",
    "train_loss, valid_loss = train_model(mlp_model, train_loader, valid_loader, args)"
   ]
  },
  {
   "attachments": {},
   "cell_type": "markdown",
   "metadata": {},
   "source": [
    "## Neural Matrix Factorization"
   ]
  },
  {
   "cell_type": "code",
   "execution_count": 14,
   "metadata": {},
   "outputs": [],
   "source": [
    "#I copied here the class for visualization semplicity purposes \n",
    "#but the class must be embedded in another .py file otherwise during Hyperparameter tuning with Ray Tune we incurr in a Pickle error\n",
    "class NeuMF_class(nn.Module):\n",
    "    def __init__(self, factor_num, num_users, num_items, layers, dropout):\n",
    "        super(NeuMF, self).__init__()\n",
    "        self.num_users = num_users\n",
    "        self.num_items = num_items\n",
    "        self.factor_num = factor_num\n",
    "        self.test = 8\n",
    "        self.dropout = dropout\n",
    "\n",
    "        #GMF component\n",
    "        self.embedding_user_gmf = nn.Embedding(num_embeddings=self.num_users, embedding_dim=self.factor_num)\n",
    "        self.embedding_item_gmf = nn.Embedding(num_embeddings=self.num_items, embedding_dim=self.factor_num)\n",
    "\n",
    "        self.affine_output_gmf = nn.Linear(in_features=self.factor_num, out_features=8, bias = False)\n",
    "\n",
    "\n",
    "        #MLP component\n",
    "        self.layers = layers\n",
    "\n",
    "        self.embedding_user_mlp = nn.Embedding(num_embeddings=self.num_users, embedding_dim=self.factor_num)\n",
    "        self.embedding_item_mlp = nn.Embedding(num_embeddings=self.num_items, embedding_dim=self.factor_num)\n",
    "\n",
    "        self.fc_layers = nn.ModuleList()\n",
    "        self.fc_layers.append(nn.Linear(self.factor_num*2, self.layers[0]))\n",
    "\n",
    "        for in_size, out_size in zip(self.layers[:-1], self.layers[1:]):\n",
    "            self.fc_layers.append(nn.Linear(in_size, out_size))\n",
    "\n",
    "        ##Models fusion\n",
    "        self.mixing_layers = nn.Sequential(\n",
    "            nn.Linear(16, 16),\n",
    "            nn.ReLU(),\n",
    "            nn.Dropout(p = dropout[0]),\n",
    "            nn.Linear(16, 8),\n",
    "            nn.ReLU(),\n",
    "            nn.Dropout(p = dropout[1]),\n",
    "            nn.Linear(8, 1),\n",
    "            nn.Sigmoid()\n",
    "        )\n",
    "\n",
    "    def forward(self, user_indices, item_indices):\n",
    "        #GMF forward\n",
    "        # (batch_size , factor_num)\n",
    "        user_embedding_gmf = self.embedding_user_gmf(user_indices)\n",
    "        user_embedding_gmf = nn.Dropout(p = self.dropout[2])(user_embedding_gmf)\n",
    "\n",
    "        item_embedding_gmf = self.embedding_item_gmf(item_indices)\n",
    "        item_embedding_gmf = nn.Dropout(p = self.dropout[3])(item_embedding_gmf)\n",
    "\n",
    "        # (bacth_size , factor_num)\n",
    "        element_product = torch.mul(user_embedding_gmf, item_embedding_gmf)\n",
    "        # (batch_size, 8)\n",
    "        logits_gmf = self.affine_output_gmf(element_product)\n",
    "\n",
    "        # (batch_size, 8)\n",
    "        ratings_gmf = logits_gmf\n",
    "\n",
    "        #MLP forward\n",
    "        # (batch_size, factor_num)\n",
    "        user_embedding_mlp = self.embedding_user_mlp(user_indices)\n",
    "        user_embedding_mlp = nn.Dropout(p = self.dropout[4])(user_embedding_mlp)\n",
    "\n",
    "        # (bacth_size, factor_num)\n",
    "        item_embedding_mlp = self.embedding_item_mlp(item_indices)\n",
    "        item_embedding_mlp = nn.Dropout(p = self.dropout[5])(item_embedding_mlp)\n",
    "\n",
    "        # (batch_size, 2* factor_num)\n",
    "        vector = torch.cat([user_embedding_mlp, item_embedding_mlp], dim=-1)  # the concat latent vector\n",
    "        for idx, _ in enumerate(range(len(self.fc_layers))):\n",
    "            # (batch_size, in_size) -> (batch_size, out_size)\n",
    "            vector = self.fc_layers[idx](vector)\n",
    "            if idx != len(self.fc_layers)-1:\n",
    "                vector = nn.ReLU()(vector)\n",
    "            # vector = nn.BatchNorm1d()(vector)\n",
    "            vector = nn.Dropout(p=self.dropout[6])(vector)\n",
    "        # (batch_size, 8)\n",
    "        ratings_mlp =  vector\n",
    "\n",
    "        #Models fusion\n",
    "        # (batch_size, 8) cat (batch_size, 8) -> (batch_size, 16)\n",
    "        ratings = torch.cat([ratings_gmf, ratings_mlp], dim = 1)\n",
    "\n",
    "        return self.mixing_layers(ratings).squeeze()"
   ]
  },
  {
   "attachments": {},
   "cell_type": "markdown",
   "metadata": {},
   "source": [
    "## HyperParameter Tuning With RayTune"
   ]
  },
  {
   "attachments": {},
   "cell_type": "markdown",
   "metadata": {},
   "source": [
    "### We first need to define a config dict that defines the search space of the hyperparameters"
   ]
  },
  {
   "cell_type": "code",
   "execution_count": 15,
   "metadata": {},
   "outputs": [],
   "source": [
    "config = {\n",
    "    \"lr\": tune.choice([0.005, 0.015, 0.01, 0.001]),\n",
    "    \"batch_size\": tune.choice([128, 256, 512]),\n",
    "    \"num_factors\": tune.choice([8, 16, 32]),\n",
    "    \"epochs\": tune.choice([15, 30, 40]),\n",
    "    \"out\": True,\n",
    "    \"layers\": tune.choice([[32, 16, 8], [64, 32, 8]]),\n",
    "    \"dropout\": tune.choice([[[0, 0, 0, 0, 0, 0.2, 0.2, 0.2, 0.5, 0.5][np.random.randint(0,9)] for _ in range(7)] for _ in range(20)])\n",
    "}"
   ]
  },
  {
   "attachments": {},
   "cell_type": "markdown",
   "metadata": {},
   "source": [
    "### Train Function\n",
    "We have to define a train function that takes as argument the config file.\n",
    "This function will:\n",
    "- Initialize NeuMF model with the specified config parameters (num factors, layers, dropout vector for the different layers)\n",
    "- Initialize Train and validation dataloaders\n",
    "- Train the model on the Train dataloader\n",
    "- Evaluate the validation loss and report it to RayTune\n",
    "- Save the best model\n"
   ]
  },
  {
   "cell_type": "code",
   "execution_count": 16,
   "metadata": {},
   "outputs": [],
   "source": [
    "#trains and save the model and returns the lists of train_loss and validation_loss \n",
    "def train_NeuMF(config):\n",
    "    #model = NeuMF_parametric_dropout(config['num_factors'], num_users, num_items, config['layers'], config['dropout'])\n",
    "    model = NeuMF(config['num_factors'], num_users, num_items, config['layers'], config['dropout'])\n",
    "\n",
    "    train_loader, valid_loader, _, _ = data_loaders_from_data(PATH, batch_size = config['batch_size'])\n",
    "\n",
    "    model = model.to(device)\n",
    "\n",
    "    loss_function = nn.BCELoss()\n",
    "    optimizer = optim.Adam(model.parameters(), lr=config['lr'])\n",
    "\n",
    "    # train, evaluation\n",
    "    best_valid_loss = math.inf\n",
    "    train_loss, valid_loss = [], []\n",
    "\n",
    "    for epoch in range(config['epochs']):\n",
    "        model.train() # Enable dropout (if have).\n",
    "        start_time = time.time()\n",
    "\n",
    "        intermediate_train_loss = []\n",
    "        for user, item, label in train_loader:\n",
    "            user = user.to(device)\n",
    "            item = item.to(device)\n",
    "            label = label.to(device)\n",
    "\n",
    "            optimizer.zero_grad()\n",
    "            prediction = model(user, item)\n",
    "            loss = loss_function(prediction, label)\n",
    "            loss.backward()\n",
    "            optimizer.step()\n",
    "            intermediate_train_loss.append(loss.cpu().detach().item())\n",
    "            #writer.add_scalar('loss/Train_loss', loss.item(), epoch)\n",
    "\n",
    "        train_loss.append(np.array(intermediate_train_loss).mean())\n",
    "\n",
    "        model.eval()\n",
    "\n",
    "        intermediate_valid_loss = []\n",
    "        for user, item, label in valid_loader:\n",
    "            user = user.to(device)\n",
    "            item = item.to(device)\n",
    "            label = label.to(device)\n",
    "\n",
    "            prediction = model(user, item)\n",
    "            loss = loss_function(prediction, label)\n",
    "\n",
    "            intermediate_valid_loss.append(loss.cpu().detach().item())\n",
    "\n",
    "        valid_loss.append(np.array(intermediate_valid_loss).mean())\n",
    "        if valid_loss[epoch] < best_valid_loss:\n",
    "            best_valid_loss = valid_loss[epoch]\n",
    "            if config['out']:\n",
    "                if not os.path.exists(MODEL_PATH):\n",
    "                    os.mkdir(MODEL_PATH)\n",
    "                torch.save(model, \n",
    "                    '{}{}{}.pt'.format(MODEL_PATH, model.__class__.__name__, model.factor_num))\n",
    "                \n",
    "        with tune.checkpoint_dir(epoch) as checkpoint_dir:\n",
    "            path = os.path.join(checkpoint_dir, \"checkpoint\")\n",
    "            torch.save((model.state_dict(), optimizer.state_dict()), path)\n",
    "\n",
    "        tune.report(loss = valid_loss[epoch])\n",
    "                \n",
    "    losses = pd.DataFrame({\"train loss\":train_loss, \"valid loss\": valid_loss}, index=range(1, config['epochs']+1))\n",
    "    losses.to_csv('{}{}{}'.format(MODEL_PATH, model.__class__.__name__, model.factor_num))\n",
    "    return train_loss, valid_loss\n"
   ]
  },
  {
   "attachments": {},
   "cell_type": "markdown",
   "metadata": {},
   "source": [
    "### Initialize the scheduler and running the HT procedure\n",
    "There is a paper related to the ASAH Scheduler at :https://arxiv.org/abs/1810.05934"
   ]
  },
  {
   "cell_type": "code",
   "execution_count": 17,
   "metadata": {},
   "outputs": [],
   "source": [
    "scheduler = ASHAScheduler(\n",
    "        metric=\"loss\",\n",
    "        mode=\"min\",\n",
    "        max_t=40,\n",
    "        grace_period=5,\n",
    "        reduction_factor=2)\n",
    "\n",
    "reporter = CLIReporter(\n",
    "        metric_columns=[\"loss\"]\n",
    ")"
   ]
  },
  {
   "cell_type": "code",
   "execution_count": null,
   "metadata": {},
   "outputs": [],
   "source": [
    "\n",
    "result = tune.run(\n",
    "    train_NeuMF,\n",
    "    local_dir = \"/home/agoniko/Desktop/Uni/DEEP_LEARNING/Neural_collaborative_filtering/Assignment1/checkpoints/\",\n",
    "    resources_per_trial={\"cpu\": 8},\n",
    "    config=config,\n",
    "    num_samples=10,\n",
    "    scheduler=scheduler,\n",
    "    progress_reporter=reporter,\n",
    "    checkpoint_at_end=False,\n",
    "    #restore=\"/home/agoniko/Desktop/Uni/DEEP_LEARNING/Neural_collaborative_filtering/Assignment1/checkpoints/train_NeuMF_2023-03-17_14-42-02/\"\n",
    ")"
   ]
  },
  {
   "cell_type": "code",
   "execution_count": null,
   "metadata": {},
   "outputs": [
    {
     "data": {
      "text/plain": [
       "{'lr': 0.001,\n",
       " 'batch_size': 256,\n",
       " 'num_factors': 16,\n",
       " 'epochs': 15,\n",
       " 'out': True,\n",
       " 'layers': [64, 16, 8],\n",
       " 'dropout': [0, 0, 0, 0.2, 0, 0, 0.2]}"
      ]
     },
     "execution_count": 55,
     "metadata": {},
     "output_type": "execute_result"
    }
   ],
   "source": [
    "\n",
    "best_trial = result.get_best_trial(\"loss\", \"min\", \"last\")\n",
    "#print(\"Best trial final validation loss: {}\".format(best_trial.last_result[\"loss\"]))\n",
    "best_checkpoint_dir = best_trial.checkpoint.dir_or_data\n",
    "model_state, optimizer_state = torch.load(os.path.join(\n",
    "    best_checkpoint_dir, \"checkpoint\"))\n",
    "\n",
    "best_trained_model = NeuMF(best_trial.config[\"num_factors\"], num_users, num_items, best_trial.config[\"layers\"], best_trial.config['dropout']) \n",
    "\n",
    "best_trained_model.load_state_dict(model_state)\n",
    "torch.save(best_trained_model, '{}{}{}_best_so_far.pt'.format(MODEL_PATH, best_trained_model.__class__.__name__, best_trained_model.factor_num))\n",
    "\n",
    "best_trial.config"
   ]
  },
  {
   "attachments": {},
   "cell_type": "markdown",
   "metadata": {},
   "source": [
    "### Reporting the best configuration in our tests"
   ]
  },
  {
   "cell_type": "code",
   "execution_count": 18,
   "metadata": {},
   "outputs": [],
   "source": [
    "best_config = {\n",
    "    \"lr\": 0.01,\n",
    "    \"batch_size\": 256,\n",
    "    \"num_factors\": 8,\n",
    "    \"epochs\": 20,\n",
    "    \"out\": True,\n",
    "    \"layers\": [64, 16, 8],\n",
    "    \"dropout\":[0,0,0,0,0,0,0.5]\n",
    "}"
   ]
  },
  {
   "attachments": {},
   "cell_type": "markdown",
   "metadata": {},
   "source": [
    "# Task 2 - Models Evaluation"
   ]
  },
  {
   "cell_type": "code",
   "execution_count": 19,
   "metadata": {},
   "outputs": [],
   "source": [
    "def plot_losses(model: nn.Module, train_loss, valid_loss, ax):\n",
    "    ax.plot(range(1, len(train_loss) +1), train_loss, label = \"Training\", color='blue')\n",
    "    ax.plot(range(1, len(valid_loss) +1), valid_loss, label = \"Validation\", color = \"green\")\n",
    "    ax.legend()\n",
    "    ax.set_title(model.__class__.__name__ + \" losses with \" + str(model.factor_num)+ \" num factors\")\n",
    "    ax.set_xticks(np.arange(1,len(train_loss) + 1,2))\n",
    "    ax.set_ylim(0.0, 0.7)\n",
    "    ax.set_xlabel(\"Epochs\")\n",
    "    ax.set_ylabel(\"BCE Loss\")\n",
    "    return ax\n"
   ]
  },
  {
   "cell_type": "code",
   "execution_count": 46,
   "metadata": {},
   "outputs": [
    {
     "name": "stderr",
     "output_type": "stream",
     "text": [
      "Session not detected. You should not be calling `checkpoint_dir` outside `tuner.fit()` or while using the class API. \n",
      "  File \"/usr/lib/python3.10/runpy.py\", line 196, in _run_module_as_main\n",
      "    return _run_code(code, main_globals, None,\n",
      "  File \"/usr/lib/python3.10/runpy.py\", line 86, in _run_code\n",
      "    exec(code, run_globals)\n",
      "  File \"/home/agoniko/Desktop/Uni/DEEP_LEARNING/Neural_collaborative_filtering/Assignment1/venv/lib/python3.10/site-packages/ipykernel_launcher.py\", line 17, in <module>\n",
      "    app.launch_new_instance()\n",
      "  File \"/home/agoniko/Desktop/Uni/DEEP_LEARNING/Neural_collaborative_filtering/Assignment1/venv/lib/python3.10/site-packages/traitlets/config/application.py\", line 1043, in launch_instance\n",
      "    app.start()\n",
      "  File \"/home/agoniko/Desktop/Uni/DEEP_LEARNING/Neural_collaborative_filtering/Assignment1/venv/lib/python3.10/site-packages/ipykernel/kernelapp.py\", line 725, in start\n",
      "    self.io_loop.start()\n",
      "  File \"/home/agoniko/Desktop/Uni/DEEP_LEARNING/Neural_collaborative_filtering/Assignment1/venv/lib/python3.10/site-packages/tornado/platform/asyncio.py\", line 215, in start\n",
      "    self.asyncio_loop.run_forever()\n",
      "  File \"/usr/lib/python3.10/asyncio/base_events.py\", line 600, in run_forever\n",
      "    self._run_once()\n",
      "  File \"/usr/lib/python3.10/asyncio/base_events.py\", line 1896, in _run_once\n",
      "    handle._run()\n",
      "  File \"/usr/lib/python3.10/asyncio/events.py\", line 80, in _run\n",
      "    self._context.run(self._callback, *self._args)\n",
      "  File \"/home/agoniko/Desktop/Uni/DEEP_LEARNING/Neural_collaborative_filtering/Assignment1/venv/lib/python3.10/site-packages/ipykernel/kernelbase.py\", line 513, in dispatch_queue\n",
      "    await self.process_one()\n",
      "  File \"/home/agoniko/Desktop/Uni/DEEP_LEARNING/Neural_collaborative_filtering/Assignment1/venv/lib/python3.10/site-packages/ipykernel/kernelbase.py\", line 502, in process_one\n",
      "    await dispatch(*args)\n",
      "  File \"/home/agoniko/Desktop/Uni/DEEP_LEARNING/Neural_collaborative_filtering/Assignment1/venv/lib/python3.10/site-packages/ipykernel/kernelbase.py\", line 409, in dispatch_shell\n",
      "    await result\n",
      "  File \"/home/agoniko/Desktop/Uni/DEEP_LEARNING/Neural_collaborative_filtering/Assignment1/venv/lib/python3.10/site-packages/ipykernel/kernelbase.py\", line 729, in execute_request\n",
      "    reply_content = await reply_content\n",
      "  File \"/home/agoniko/Desktop/Uni/DEEP_LEARNING/Neural_collaborative_filtering/Assignment1/venv/lib/python3.10/site-packages/ipykernel/ipkernel.py\", line 422, in do_execute\n",
      "    res = shell.run_cell(\n",
      "  File \"/home/agoniko/Desktop/Uni/DEEP_LEARNING/Neural_collaborative_filtering/Assignment1/venv/lib/python3.10/site-packages/ipykernel/zmqshell.py\", line 540, in run_cell\n",
      "    return super().run_cell(*args, **kwargs)\n",
      "  File \"/home/agoniko/Desktop/Uni/DEEP_LEARNING/Neural_collaborative_filtering/Assignment1/venv/lib/python3.10/site-packages/IPython/core/interactiveshell.py\", line 2961, in run_cell\n",
      "    result = self._run_cell(\n",
      "  File \"/home/agoniko/Desktop/Uni/DEEP_LEARNING/Neural_collaborative_filtering/Assignment1/venv/lib/python3.10/site-packages/IPython/core/interactiveshell.py\", line 3016, in _run_cell\n",
      "    result = runner(coro)\n",
      "  File \"/home/agoniko/Desktop/Uni/DEEP_LEARNING/Neural_collaborative_filtering/Assignment1/venv/lib/python3.10/site-packages/IPython/core/async_helpers.py\", line 129, in _pseudo_sync_runner\n",
      "    coro.send(None)\n",
      "  File \"/home/agoniko/Desktop/Uni/DEEP_LEARNING/Neural_collaborative_filtering/Assignment1/venv/lib/python3.10/site-packages/IPython/core/interactiveshell.py\", line 3221, in run_cell_async\n",
      "    has_raised = await self.run_ast_nodes(code_ast.body, cell_name,\n",
      "  File \"/home/agoniko/Desktop/Uni/DEEP_LEARNING/Neural_collaborative_filtering/Assignment1/venv/lib/python3.10/site-packages/IPython/core/interactiveshell.py\", line 3400, in run_ast_nodes\n",
      "    if await self.run_code(code, result, async_=asy):\n",
      "  File \"/home/agoniko/Desktop/Uni/DEEP_LEARNING/Neural_collaborative_filtering/Assignment1/venv/lib/python3.10/site-packages/IPython/core/interactiveshell.py\", line 3460, in run_code\n",
      "    exec(code_obj, self.user_global_ns, self.user_ns)\n",
      "  File \"/tmp/ipykernel_3098/2831707940.py\", line 10, in <module>\n",
      "    train_loss, val_loss = train_NeuMF(best_config)\n",
      "  File \"/tmp/ipykernel_3098/1330843397.py\", line 59, in train_NeuMF\n",
      "    with tune.checkpoint_dir(epoch) as checkpoint_dir:\n",
      "  File \"/usr/lib/python3.10/contextlib.py\", line 135, in __enter__\n",
      "    return next(self.gen)\n",
      "\n",
      "Session not detected. You should not be calling `report` outside `tuner.fit()` or while using the class API. \n",
      "  File \"/usr/lib/python3.10/runpy.py\", line 196, in _run_module_as_main\n",
      "    return _run_code(code, main_globals, None,\n",
      "  File \"/usr/lib/python3.10/runpy.py\", line 86, in _run_code\n",
      "    exec(code, run_globals)\n",
      "  File \"/home/agoniko/Desktop/Uni/DEEP_LEARNING/Neural_collaborative_filtering/Assignment1/venv/lib/python3.10/site-packages/ipykernel_launcher.py\", line 17, in <module>\n",
      "    app.launch_new_instance()\n",
      "  File \"/home/agoniko/Desktop/Uni/DEEP_LEARNING/Neural_collaborative_filtering/Assignment1/venv/lib/python3.10/site-packages/traitlets/config/application.py\", line 1043, in launch_instance\n",
      "    app.start()\n",
      "  File \"/home/agoniko/Desktop/Uni/DEEP_LEARNING/Neural_collaborative_filtering/Assignment1/venv/lib/python3.10/site-packages/ipykernel/kernelapp.py\", line 725, in start\n",
      "    self.io_loop.start()\n",
      "  File \"/home/agoniko/Desktop/Uni/DEEP_LEARNING/Neural_collaborative_filtering/Assignment1/venv/lib/python3.10/site-packages/tornado/platform/asyncio.py\", line 215, in start\n",
      "    self.asyncio_loop.run_forever()\n",
      "  File \"/usr/lib/python3.10/asyncio/base_events.py\", line 600, in run_forever\n",
      "    self._run_once()\n",
      "  File \"/usr/lib/python3.10/asyncio/base_events.py\", line 1896, in _run_once\n",
      "    handle._run()\n",
      "  File \"/usr/lib/python3.10/asyncio/events.py\", line 80, in _run\n",
      "    self._context.run(self._callback, *self._args)\n",
      "  File \"/home/agoniko/Desktop/Uni/DEEP_LEARNING/Neural_collaborative_filtering/Assignment1/venv/lib/python3.10/site-packages/ipykernel/kernelbase.py\", line 513, in dispatch_queue\n",
      "    await self.process_one()\n",
      "  File \"/home/agoniko/Desktop/Uni/DEEP_LEARNING/Neural_collaborative_filtering/Assignment1/venv/lib/python3.10/site-packages/ipykernel/kernelbase.py\", line 502, in process_one\n",
      "    await dispatch(*args)\n",
      "  File \"/home/agoniko/Desktop/Uni/DEEP_LEARNING/Neural_collaborative_filtering/Assignment1/venv/lib/python3.10/site-packages/ipykernel/kernelbase.py\", line 409, in dispatch_shell\n",
      "    await result\n",
      "  File \"/home/agoniko/Desktop/Uni/DEEP_LEARNING/Neural_collaborative_filtering/Assignment1/venv/lib/python3.10/site-packages/ipykernel/kernelbase.py\", line 729, in execute_request\n",
      "    reply_content = await reply_content\n",
      "  File \"/home/agoniko/Desktop/Uni/DEEP_LEARNING/Neural_collaborative_filtering/Assignment1/venv/lib/python3.10/site-packages/ipykernel/ipkernel.py\", line 422, in do_execute\n",
      "    res = shell.run_cell(\n",
      "  File \"/home/agoniko/Desktop/Uni/DEEP_LEARNING/Neural_collaborative_filtering/Assignment1/venv/lib/python3.10/site-packages/ipykernel/zmqshell.py\", line 540, in run_cell\n",
      "    return super().run_cell(*args, **kwargs)\n",
      "  File \"/home/agoniko/Desktop/Uni/DEEP_LEARNING/Neural_collaborative_filtering/Assignment1/venv/lib/python3.10/site-packages/IPython/core/interactiveshell.py\", line 2961, in run_cell\n",
      "    result = self._run_cell(\n",
      "  File \"/home/agoniko/Desktop/Uni/DEEP_LEARNING/Neural_collaborative_filtering/Assignment1/venv/lib/python3.10/site-packages/IPython/core/interactiveshell.py\", line 3016, in _run_cell\n",
      "    result = runner(coro)\n",
      "  File \"/home/agoniko/Desktop/Uni/DEEP_LEARNING/Neural_collaborative_filtering/Assignment1/venv/lib/python3.10/site-packages/IPython/core/async_helpers.py\", line 129, in _pseudo_sync_runner\n",
      "    coro.send(None)\n",
      "  File \"/home/agoniko/Desktop/Uni/DEEP_LEARNING/Neural_collaborative_filtering/Assignment1/venv/lib/python3.10/site-packages/IPython/core/interactiveshell.py\", line 3221, in run_cell_async\n",
      "    has_raised = await self.run_ast_nodes(code_ast.body, cell_name,\n",
      "  File \"/home/agoniko/Desktop/Uni/DEEP_LEARNING/Neural_collaborative_filtering/Assignment1/venv/lib/python3.10/site-packages/IPython/core/interactiveshell.py\", line 3400, in run_ast_nodes\n",
      "    if await self.run_code(code, result, async_=asy):\n",
      "  File \"/home/agoniko/Desktop/Uni/DEEP_LEARNING/Neural_collaborative_filtering/Assignment1/venv/lib/python3.10/site-packages/IPython/core/interactiveshell.py\", line 3460, in run_code\n",
      "    exec(code_obj, self.user_global_ns, self.user_ns)\n",
      "  File \"/tmp/ipykernel_3098/2831707940.py\", line 10, in <module>\n",
      "    train_loss, val_loss = train_NeuMF(best_config)\n",
      "  File \"/tmp/ipykernel_3098/1330843397.py\", line 63, in train_NeuMF\n",
      "    tune.report(loss = valid_loss[epoch])\n",
      "\n"
     ]
    }
   ],
   "source": [
    "best_config = {\n",
    "    \"lr\": 0.01,\n",
    "    \"batch_size\": 256,\n",
    "    \"num_factors\": 8,\n",
    "    \"epochs\": 20,\n",
    "    \"out\": True,\n",
    "    \"layers\": [64, 16, 8],\n",
    "    \"dropout\":[0.2,0.2,0,0,0,0,0.5]\n",
    "}\n",
    "train_loss, val_loss = train_NeuMF(best_config)"
   ]
  },
  {
   "attachments": {},
   "cell_type": "markdown",
   "metadata": {},
   "source": [
    "## Validation set error of the three models"
   ]
  },
  {
   "cell_type": "code",
   "execution_count": 47,
   "metadata": {},
   "outputs": [],
   "source": [
    "gmf_model = torch.load(MODEL_PATH + \"GMF16.pt\", map_location = device)\n",
    "gmf_losses = pd.read_csv(MODEL_PATH + \"GMF8\", index_col = 0)\n",
    "\n",
    "mlp_model = torch.load(MODEL_PATH + \"MLP16.pt\", map_location = device)\n",
    "mlp_losses = pd.read_csv(MODEL_PATH + \"MLP16\", index_col = 0)\n",
    "\n",
    "nmf_model = torch.load(MODEL_PATH + \"NeuMF8.pt\", map_location = device)\n",
    "nmf_losses = pd.read_csv(MODEL_PATH + \"NeuMF8\", index_col = 0)"
   ]
  },
  {
   "cell_type": "code",
   "execution_count": 48,
   "metadata": {},
   "outputs": [
    {
     "data": {
      "image/png": "[encoded data removed]",
      "text/plain": [
       "<Figure size 2000x500 with 3 Axes>"
      ]
     },
     "metadata": {},
     "output_type": "display_data"
    }
   ],
   "source": [
    "fix, (ax1, ax2, ax3) = plt.subplots(1, 3, figsize = (20,5))\n",
    "ax1 = plot_losses(nmf_model, nmf_losses['train loss'], nmf_losses['valid loss'], ax1)\n",
    "ax2 = plot_losses(gmf_model, gmf_losses['train loss'], gmf_losses['valid loss'], ax2)\n",
    "ax3 = plot_losses(mlp_model, mlp_losses['train loss'], mlp_losses['valid loss'], ax3)\n"
   ]
  },
  {
   "attachments": {},
   "cell_type": "markdown",
   "metadata": {},
   "source": [
    "## HR and NDCG Metrics evaluation\n",
    "We have evaluated those metrics while the number of recommendations k vary, we have reported that the best models of NeuMF is with 8 num factors so we take into consideration that model, in the next session different models with different num factors will be evaluated"
   ]
  },
  {
   "cell_type": "code",
   "execution_count": 38,
   "metadata": {},
   "outputs": [],
   "source": [
    "from tqdm import tqdm\n",
    "import pandas as pd\n",
    "\n",
    "def model_evaluation(models_dict, test_loader, k_range = range(5, 15), device = torch.device(\"cpu\")): #the function expects a dict {\"model name\": model}\n",
    "  for key in models_dict:\n",
    "    models_dict[key] = models_dict[key].to(device)\n",
    "\n",
    "  HR = np.zeros((len(k_range), len(models_dict)))\n",
    "  NDCG = np.zeros((len(k_range), len(models_dict)))\n",
    "  for k in tqdm(range(0, k_range.stop - k_range.start)):\n",
    "    for model_index, key in enumerate(models_dict):\n",
    "      HR[k, model_index], NDCG[k, model_index] = metrics(models_dict[key], test_loader, k + 1, device)\n",
    "\n",
    "  HR_result = pd.DataFrame(data = HR, columns = models_dict.keys(), index = k_range)\n",
    "  NDCG_result = pd.DataFrame(data = NDCG, columns = models_dict.keys(), index = k_range)\n",
    "  return HR_result, NDCG_result"
   ]
  },
  {
   "cell_type": "code",
   "execution_count": 49,
   "metadata": {},
   "outputs": [],
   "source": [
    "mlp_model = torch.load(MODEL_PATH + \"MLP16.pt\", map_location = device)\n",
    "gmf_model = torch.load(MODEL_PATH + \"GMF8.pt\", map_location = device)\n",
    "nmf_model = torch.load(MODEL_PATH + \"NeuMF8.pt\", map_location = device)\n",
    "mlp_model = mlp_model.to(device)\n",
    "gmf_model = gmf_model.to(device)\n",
    "nmf_model = nmf_model.to(device)\n"
   ]
  },
  {
   "cell_type": "code",
   "execution_count": 50,
   "metadata": {},
   "outputs": [
    {
     "name": "stderr",
     "output_type": "stream",
     "text": [
      "100%|██████████| 10/10 [00:42<00:00,  4.24s/it]\n"
     ]
    }
   ],
   "source": [
    "models_dict = {\"GMF\": gmf_model, \"MLP\": mlp_model, \"NeuMF\": nmf_model}\n",
    "HR, NDCG = model_evaluation(models_dict, test_loader, device = device)"
   ]
  },
  {
   "cell_type": "code",
   "execution_count": 51,
   "metadata": {},
   "outputs": [
    {
     "data": {
      "image/png": "[encoded data removed]",
      "text/plain": [
       "<Figure size 2000x500 with 2 Axes>"
      ]
     },
     "metadata": {},
     "output_type": "display_data"
    }
   ],
   "source": [
    "import matplotlib.pyplot as plt\n",
    "fig, (hr_ax, ndcg_ax) = plt.subplots(1,2, figsize = (20, 5))\n",
    "colors = [\"green\", \"blue\", \"purple\"]\n",
    "for num, i in enumerate(HR.columns):\n",
    "  hr_ax.plot(HR[i], label = i, color = colors[num])\n",
    "  ndcg_ax.plot(NDCG[i], label = i, color = colors[num])\n",
    "  hr_ax.plot([10],[HR[i][10]], marker = \"o\", color = colors[num], label = \"HR@10\")\n",
    "  ndcg_ax.plot([10],[NDCG[i][10]], marker = \"o\", color = colors[num], label = \"NDCG@10\")\n",
    "\n",
    "\n",
    "hr_ax.set_title(\"Hit Rate while number of recommendations vary\")\n",
    "ndcg_ax.set_title(\"NDCG Rate while number of recommendations vary\")\n",
    "hr_ax.set_ylabel(\"HR\")\n",
    "hr_ax.set_xlabel(\"K value\")\n",
    "ndcg_ax.set_ylabel(\"NDCG\")\n",
    "ndcg_ax.set_xlabel(\"K value\")\n",
    "hr_ax.legend()\n",
    "ndcg_ax.legend()\n",
    "plt.show()"
   ]
  },
  {
   "attachments": {},
   "cell_type": "markdown",
   "metadata": {},
   "source": [
    "# Task 3 - Metrics Evaluation while num factors vary"
   ]
  },
  {
   "cell_type": "code",
   "execution_count": 58,
   "metadata": {},
   "outputs": [],
   "source": [
    "num_factors = [8, 16, 32]\n",
    "#num_factors = [8, 16, 32, 64]\n",
    "\n",
    "mlp_models, gmf_models, nmf_models = {}, {}, {}\n",
    "\n",
    "for num in num_factors:\n",
    "    mlp_models[num] = torch.load(MODEL_PATH + \"MLP{}.pt\".format(num), map_location = device)\n",
    "    gmf_models[num] = torch.load(MODEL_PATH + \"GMF{}.pt\".format(num), map_location = device)\n",
    "    nmf_models[num] = torch.load(MODEL_PATH + \"NeuMF{}.pt\".format(num), map_location = device)"
   ]
  },
  {
   "cell_type": "code",
   "execution_count": 59,
   "metadata": {},
   "outputs": [
    {
     "data": {
      "text/plain": [
       "{8: MLP(\n",
       "   (embedding_user): Embedding(943, 8)\n",
       "   (embedding_item): Embedding(1682, 8)\n",
       "   (fc_layers): ModuleList(\n",
       "     (0): Linear(in_features=16, out_features=32, bias=True)\n",
       "     (1): Linear(in_features=32, out_features=16, bias=True)\n",
       "     (2): Linear(in_features=16, out_features=8, bias=True)\n",
       "   )\n",
       "   (affine_output): Linear(in_features=8, out_features=1, bias=True)\n",
       "   (logistic): Sigmoid()\n",
       " ),\n",
       " 16: MLP(\n",
       "   (embedding_user): Embedding(943, 16)\n",
       "   (embedding_item): Embedding(1682, 16)\n",
       "   (fc_layers): ModuleList(\n",
       "     (0): Linear(in_features=32, out_features=32, bias=True)\n",
       "     (1): Linear(in_features=32, out_features=16, bias=True)\n",
       "     (2): Linear(in_features=16, out_features=8, bias=True)\n",
       "   )\n",
       "   (affine_output): Linear(in_features=8, out_features=1, bias=True)\n",
       "   (logistic): Sigmoid()\n",
       " ),\n",
       " 32: MLP(\n",
       "   (embedding_user): Embedding(943, 32)\n",
       "   (embedding_item): Embedding(1682, 32)\n",
       "   (fc_layers): ModuleList(\n",
       "     (0): Linear(in_features=64, out_features=32, bias=True)\n",
       "     (1): Linear(in_features=32, out_features=16, bias=True)\n",
       "     (2): Linear(in_features=16, out_features=8, bias=True)\n",
       "   )\n",
       "   (affine_output): Linear(in_features=8, out_features=1, bias=True)\n",
       "   (logistic): Sigmoid()\n",
       " )}"
      ]
     },
     "execution_count": 59,
     "metadata": {},
     "output_type": "execute_result"
    }
   ],
   "source": []
  }
 ],
 "metadata": {
  "kernelspec": {
   "display_name": "venv",
   "language": "python",
   "name": "python3"
  },
  "language_info": {
   "codemirror_mode": {
    "name": "ipython",
    "version": 3
   },
   "file_extension": ".py",
   "mimetype": "text/x-python",
   "name": "python",
   "nbconvert_exporter": "python",
   "pygments_lexer": "ipython3",
   "version": "3.10.6"
  },
  "orig_nbformat": 4
 },
 "nbformat": 4,
 "nbformat_minor": 2
}
