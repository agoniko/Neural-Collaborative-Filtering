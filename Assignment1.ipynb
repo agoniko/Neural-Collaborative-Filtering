{
 "cells": [
  {
   "attachments": {},
   "cell_type": "markdown",
   "metadata": {},
   "source": [
    "# Team composed by:\n",
    "- Agostara Nicolò\n",
    "- Fratti Giorgio\n",
    "- Fusillo Antonio\n",
    "- Protti Edoardo"
   ]
  },
  {
   "attachments": {},
   "cell_type": "markdown",
   "metadata": {},
   "source": [
    "## THEORETICAL FRAMEWORK\n",
    "\n",
    "The dataset contains ratings of items by users\n",
    "\n",
    "For each couple $(u, i)$ of a user and a item, we consider\n",
    "the discrete random variable $R(u, i)$ = \"item i is relevant for user u\"\n",
    "$R(u, i) \\in \\{0, 1\\}$ for every $u, i$\n",
    "In this scenario \"relevant\" doesn't assume the usual meaning\n",
    "it refers to a \"relevance\" by a reccomender system point of view\n",
    "\n",
    "If a user u rated an item i, then he interacted with it,\n",
    "in this case we assume to have a realization $r(u, i) = 1 \\text{ of } R(u, i)$\n",
    "\n",
    "Since we only have items ratings in our dataset, we don't have any \"negative\"\n",
    "realization of $R(u, i)$, i.e. any realization $r(u, i) = 0$\n",
    "\n",
    "For this reason we make a sampling from the unrealized variables, i.e\n",
    "the variables $R(u, i)$ such in our dataset there is not a rating of item i by user u\n",
    "\n",
    "Given our final dataset, consisting in realizations of a subset of the variables $\\{R(u, i): \\text{u user, i item}\\}$\n",
    "we want to maximize the likelihood function of the model, i.e.\n",
    "$$L = \\prod p(R(u, i) = r(u, i)) = (\\prod_{i+} p(R(u, i) = 1)) \\times (\\prod_{i-} p(R(u, i) = 0)$$ \n",
    "splitting the products between positive and negative realizations\n",
    "\n",
    "Our model returns the value $f(u, i) = p(R(u, i) = 1)$ i.e. the \"probability of relevance of item i for user u\"\n",
    "Passing to maximize the log likelihood function we want to maximize:\n",
    "$$\n",
    "\\begin{aligned}\n",
    "\\log L &= \\sum_{u,i} \\log p(R(u, i) = 1) + \\sum_{u,i} \\log p(R(u,i) = 0)\\\\\n",
    "&= \\sum_{u,i} \\log p(R(u, i) = 1) + \\sum_{u,i} \\log (1 - p(R(u, i) = 1))\\\\\n",
    "&= \\sum_{u,i} \\log f(u, i) + \\sum_{u,i} \\log (1 - f(u, i))\\\\\n",
    "&= ... =\\mathrm{BCE}(f)\n",
    "\\end{aligned}\n",
    "$$"
   ]
  },
  {
   "cell_type": "markdown",
   "metadata": {},
   "source": [
    "### IMPORT LIBRARIES"
   ]
  },
  {
   "cell_type": "code",
   "execution_count": 1,
   "metadata": {},
   "outputs": [],
   "source": [
    "import math\n",
    "import os\n",
    "import random\n",
    "\n",
    "import matplotlib.pyplot as plt\n",
    "import numpy as np\n",
    "import pandas as pd\n",
    "import torch\n",
    "import torch.nn as nn\n",
    "import torch.optim as optim\n",
    "from ray import tune\n",
    "from ray.tune import CLIReporter\n",
    "from ray.tune.schedulers import ASHAScheduler\n",
    "from torch.utils.data import DataLoader, Dataset\n",
    "from tqdm import tqdm\n",
    "import time\n",
    "\n",
    "from neumf import NeuMF"
   ]
  },
  {
   "attachments": {},
   "cell_type": "markdown",
   "metadata": {},
   "source": [
    "# Preliminary Definitions"
   ]
  },
  {
   "attachments": {},
   "cell_type": "markdown",
   "metadata": {},
   "source": [
    "## PATH definition"
   ]
  },
  {
   "cell_type": "code",
   "execution_count": 2,
   "metadata": {},
   "outputs": [],
   "source": [
    "PATH = \"./ml-100k/u.data\" \n",
    "MODEL_PATH = \"./models/\" "
   ]
  },
  {
   "attachments": {},
   "cell_type": "markdown",
   "metadata": {},
   "source": [
    "## Parameters definition"
   ]
  },
  {
   "cell_type": "code",
   "execution_count": 3,
   "metadata": {},
   "outputs": [],
   "source": [
    "args = {\n",
    "    \"seed\": 42,\n",
    "    \"lr\": 0.001,\n",
    "    \"dropout\": 0.2,\n",
    "    \"batch_size\": 256,\n",
    "    \"epochs\": 30,\n",
    "    \"top_k\": 10,\n",
    "    \"num_factors\": 32,\n",
    "    \"layers\": (32, 16, 8),\n",
    "    \"out\": True,\n",
    "    \"num_ng\": 4,\n",
    "    \"num_ng_test\": 100\n",
    "}"
   ]
  },
  {
   "cell_type": "code",
   "execution_count": 4,
   "metadata": {},
   "outputs": [
    {
     "data": {
      "text/plain": [
       "device(type='cpu')"
      ]
     },
     "execution_count": 4,
     "metadata": {},
     "output_type": "execute_result"
    }
   ],
   "source": [
    "np.random.seed(args[\"seed\"])\n",
    "torch.manual_seed(args[\"seed\"])\n",
    "\n",
    "use_cuda = torch.cuda.is_available()\n",
    "device = torch.device(\"cuda:0\" if use_cuda else \"cpu\")\n",
    "device"
   ]
  },
  {
   "attachments": {},
   "cell_type": "markdown",
   "metadata": {},
   "source": [
    "## Evaluation Metrics"
   ]
  },
  {
   "cell_type": "code",
   "execution_count": 5,
   "metadata": {},
   "outputs": [],
   "source": [
    "def hit(ng_item, pred_items):\n",
    "    return 1 if ng_item in pred_items else 0\n",
    "\n",
    "\n",
    "def ndcg(ng_item, pred_items):\n",
    "    if ng_item in pred_items:\n",
    "        index = pred_items.index(ng_item)\n",
    "        return np.reciprocal(np.log2(index + 2))\n",
    "    return 0\n",
    "\n",
    "\n",
    "def metrics(model, test_loader, top_k, device):\n",
    "    HR, NDCG = [], []\n",
    "\n",
    "    for user, item, label in test_loader:\n",
    "        user = user.to(device)\n",
    "        item = item.to(device)\n",
    "\n",
    "        predictions = model(user, item)\n",
    "        _, indices = torch.topk(predictions, top_k)\n",
    "        recommends = torch.take(item, indices).cpu().numpy().tolist()\n",
    "\n",
    "        ng_item = item[0].item()  # leave one-out evaluation has only one item per user\n",
    "        HR.append(hit(ng_item, recommends))\n",
    "        NDCG.append(ndcg(ng_item, recommends))\n",
    "\n",
    "    return np.mean(HR), np.mean(NDCG)\n"
   ]
  },
  {
   "attachments": {},
   "cell_type": "markdown",
   "metadata": {},
   "source": [
    "# Data preprocessing"
   ]
  },
  {
   "cell_type": "code",
   "execution_count": 6,
   "metadata": {},
   "outputs": [],
   "source": [
    "class Rating_Datset(Dataset):\n",
    "\tdef __init__(self, user_list, item_list, rating_list):\n",
    "\t\tsuper(Rating_Datset, self).__init__()\n",
    "\t\tself.user_list = user_list\n",
    "\t\tself.item_list = item_list\n",
    "\t\tself.rating_list = rating_list\n",
    "\n",
    "\tdef __len__(self):\n",
    "\t\treturn len(self.user_list)\n",
    "\n",
    "\tdef __getitem__(self, idx):\n",
    "\t\tuser = self.user_list[idx]\n",
    "\t\titem = self.item_list[idx]\n",
    "\t\trating = self.rating_list[idx]\n",
    "\t\t\n",
    "\t\treturn (\n",
    "\t\t\ttorch.tensor(user, dtype=torch.long),\n",
    "\t\t\ttorch.tensor(item, dtype=torch.long),\n",
    "\t\t\ttorch.tensor(rating, dtype=torch.float)\n",
    "\t\t\t)\n"
   ]
  },
  {
   "cell_type": "code",
   "execution_count": 7,
   "metadata": {},
   "outputs": [],
   "source": [
    "\n",
    "class NCF_Data(object):\n",
    "\t\"\"\"\n",
    "\tConstruct Dataset for NCF\n",
    "\t\"\"\"\n",
    "\tdef __init__(self, ratings):\n",
    "\t\tself.ratings = ratings\n",
    "\t\tself.num_ng = args[\"num_ng\"]\n",
    "\t\tself.num_ng_test = args[\"num_ng_test\"]\n",
    "\t\tself.batch_size = args[\"batch_size\"]\n",
    "\n",
    "\t\tself.preprocess_ratings = self._reindex(self.ratings)\n",
    "\n",
    "\t\tself.user_pool = set(self.ratings['user_id'].unique())\n",
    "\t\tself.item_pool = set(self.ratings['item_id'].unique())\n",
    "\n",
    "\t\tself.train_ratings, self.test_ratings = self._leave_one_out(self.preprocess_ratings)\n",
    "\t\tself.negatives = self._negative_sampling(self.preprocess_ratings)\n",
    "\n",
    "\t\n",
    "\tdef _reindex(self, ratings):\n",
    "\t\t\"\"\"\n",
    "\t\tProcess dataset to reindex userID and itemID, also set rating as binary feedback\n",
    "\t\t\"\"\"\n",
    "\t\tuser_list = list(ratings['user_id'].drop_duplicates())\n",
    "\t\tuser2id = {w: i for i, w in enumerate(user_list)}\n",
    "\n",
    "\t\titem_list = list(ratings['item_id'].drop_duplicates())\n",
    "\t\titem2id = {w: i for i, w in enumerate(item_list)}\n",
    "\n",
    "\t\tratings['user_id'] = ratings['user_id'].apply(lambda x: user2id[x])\n",
    "\t\tratings['item_id'] = ratings['item_id'].apply(lambda x: item2id[x])\n",
    "\t\tratings['rating'] = ratings['rating'].apply(lambda x: float(x > 0))\n",
    "\t\treturn ratings\n",
    "\n",
    "\tdef _leave_one_out(self, ratings):\n",
    "\t\t\"\"\"\n",
    "\t\tleave-one-out evaluation protocol in paper https://www.comp.nus.edu.sg/~xiangnan/papers/ncf.pdf\n",
    "\t\t\"\"\"\n",
    "\t\tratings['rank_latest'] = ratings.groupby(['user_id'])['timestamp'].rank(method='first', ascending=False)\n",
    "\t\ttest = ratings.loc[ratings['rank_latest'] == 1]\n",
    "\t\ttrain = ratings.loc[ratings['rank_latest'] > 1]\n",
    "\t\tassert train['user_id'].nunique()==test['user_id'].nunique(), 'Not Match Train User with Test User'\n",
    "\t\treturn train[['user_id', 'item_id', 'rating']], test[['user_id', 'item_id', 'rating']]\n",
    "\n",
    "\tdef _negative_sampling(self, ratings):\n",
    "\t\tinteract_status = (\n",
    "\t\t\tratings.groupby('user_id')['item_id']\n",
    "\t\t\t.apply(set)\n",
    "\t\t\t.reset_index()\n",
    "\t\t\t.rename(columns={'item_id': 'interacted_items'}))\n",
    "\t\tinteract_status['negative_items'] = interact_status['interacted_items'].apply(lambda x: self.item_pool - x)\n",
    "\t\tinteract_status['negative_samples'] = interact_status['negative_items'].apply(lambda x: random.sample(x, self.num_ng_test))\n",
    "\t\treturn interact_status[['user_id', 'negative_items', 'negative_samples']]\n",
    "\n",
    "\tdef get_train_instance(self):\n",
    "\t\tusers, items, ratings = [], [], []\n",
    "\t\ttrain_ratings = pd.merge(self.train_ratings, self.negatives[['user_id', 'negative_items']], on='user_id')\n",
    "\t\ttrain_ratings['negatives'] = train_ratings['negative_items'].apply(lambda x: random.sample(x, self.num_ng))\n",
    "\t\tfor row in train_ratings.itertuples():\n",
    "\t\t\tusers.append(int(row.user_id))\n",
    "\t\t\titems.append(int(row.item_id))\n",
    "\t\t\tratings.append(float(row.rating))\n",
    "\t\t\tfor i in range(self.num_ng):\n",
    "\t\t\t\tusers.append(int(row.user_id))\n",
    "\t\t\t\titems.append(int(row.negatives[i]))\n",
    "\t\t\t\tratings.append(float(0))  # negative samples get 0 rating\n",
    "\t\tdataset = Rating_Datset(\n",
    "\t\t\tuser_list=users,\n",
    "\t\t\titem_list=items,\n",
    "\t\t\trating_list=ratings)\n",
    "\t\treturn DataLoader(dataset, batch_size=self.batch_size, shuffle=True, num_workers=4)\n",
    "\n",
    "\tdef get_test_instance(self):\n",
    "\t\tusers, items, ratings = [], [], []\n",
    "\t\ttest_ratings = pd.merge(self.test_ratings, self.negatives[['user_id', 'negative_samples']], on='user_id')\n",
    "\t\tfor row in test_ratings.itertuples():\n",
    "\t\t\tusers.append(int(row.user_id))\n",
    "\t\t\titems.append(int(row.item_id))\n",
    "\t\t\tratings.append(float(row.rating))\n",
    "\t\t\tfor i in getattr(row, 'negative_samples'):\n",
    "\t\t\t\tusers.append(int(row.user_id))\n",
    "\t\t\t\titems.append(int(i))\n",
    "\t\t\t\tratings.append(float(0))\n",
    "\t\tdataset = Rating_Datset(\n",
    "\t\t\tuser_list=users,\n",
    "\t\t\titem_list=items,\n",
    "\t\t\trating_list=ratings)\n",
    "\t\treturn DataLoader(dataset, batch_size=self.num_ng_test+1, shuffle=False, num_workers=2)"
   ]
  },
  {
   "cell_type": "code",
   "execution_count": 8,
   "metadata": {},
   "outputs": [
    {
     "name": "stderr",
     "output_type": "stream",
     "text": [
      "/tmp/ipykernel_7212/394196750.py:52: DeprecationWarning: Sampling from a set deprecated\n",
      "since Python 3.9 and will be removed in a subsequent version.\n",
      "  interact_status['negative_samples'] = interact_status['negative_items'].apply(lambda x: random.sample(x, self.num_ng_test))\n",
      "/tmp/ipykernel_7212/394196750.py:58: DeprecationWarning: Sampling from a set deprecated\n",
      "since Python 3.9 and will be removed in a subsequent version.\n",
      "  train_ratings['negatives'] = train_ratings['negative_items'].apply(lambda x: random.sample(x, self.num_ng))\n"
     ]
    }
   ],
   "source": [
    "# load data\n",
    "ml_100k = pd.read_csv(\n",
    "\tPATH, \n",
    "\tsep=\"\\t\", \n",
    "\tnames = ['user_id', 'item_id', 'rating', 'timestamp'], \n",
    "\tengine='python')\n",
    "\n",
    "# set the num_users, items\n",
    "num_users = ml_100k['user_id'].nunique()+1\n",
    "num_items = ml_100k['item_id'].nunique()+1\n",
    "\n",
    "# construct the train and test datasets\n",
    "data = NCF_Data(ml_100k)\n",
    "train_loader = data.get_train_instance()\n",
    "test_loader = data.get_test_instance()"
   ]
  },
  {
   "attachments": {},
   "cell_type": "markdown",
   "metadata": {},
   "source": [
    "# Models Definition"
   ]
  },
  {
   "attachments": {},
   "cell_type": "markdown",
   "metadata": {},
   "source": [
    "## Training function for GMF, MLP and NeuMF models"
   ]
  },
  {
   "cell_type": "markdown",
   "metadata": {},
   "source": [
    "### Train Model function\n",
    "We define the function that will train the models.\n",
    "The function takes in input the model, the train data loader and the test dataloader.\n",
    "It does:\n",
    "\n",
    "Set the loss function to BCE\n",
    "\n",
    "Set the optimizer to Adam\n",
    "\n",
    "For each epoch:\n",
    "- Train over the batches\n",
    "- Evaluate the metrics (HR and NDCG)\n",
    "- Save the best model (based on HR)"
   ]
  },
  {
   "cell_type": "code",
   "execution_count": 9,
   "metadata": {},
   "outputs": [],
   "source": [
    "def train_model(model: nn.Module, train_loader: DataLoader, test_loader: DataLoader):\n",
    "    model = model.to(device)\n",
    "\n",
    "    # Loss and optimizer\n",
    "    loss_function = nn.BCELoss()\n",
    "    optimizer = optim.Adam(model.parameters(), lr=args[\"lr\"])\n",
    "\n",
    "    best_hr = 0\n",
    "    \n",
    "    # Train cycle\n",
    "    for epoch in range(args[\"epochs\"]):\n",
    "        start_time = time.time()\n",
    "        \n",
    "        # Train step\n",
    "        model.train()\n",
    "\n",
    "        for user, item, label in train_loader:\n",
    "            user = user.to(device)\n",
    "            item = item.to(device)\n",
    "            label = label.to(device)\n",
    "\n",
    "            # Zero grad\n",
    "            optimizer.zero_grad()\n",
    "            \n",
    "            # Prediction\n",
    "            prediction = model(user, item)\n",
    "            loss = loss_function(prediction, label)\n",
    "            \n",
    "            # Backpropagation\n",
    "            loss.backward()\n",
    "            optimizer.step()\n",
    "\n",
    "        # Eval metrics\n",
    "        model.eval()\n",
    "        HR, NDCG = metrics(model, test_loader, args[\"top_k\"], device)\n",
    "\n",
    "        # Print metrics and time elapsed\n",
    "        elapsed_time = time.time() - start_time\n",
    "        print(\n",
    "            \"Epoch {:03d}\".format(epoch)\n",
    "            + \" time to train: \"\n",
    "            + time.strftime(\"%H: %M: %S\", time.gmtime(elapsed_time))\n",
    "        )\n",
    "        print(\"HR: {:.3f}\\tNDCG: {:.3f}\".format(np.mean(HR), np.mean(NDCG)))\n",
    "\n",
    "        # If best model, save it\n",
    "        if HR > best_hr:\n",
    "            best_hr, best_ndcg, best_epoch = HR, NDCG, epoch\n",
    "            if args[\"out\"]:\n",
    "                if not os.path.exists(MODEL_PATH):\n",
    "                    os.mkdir(MODEL_PATH)\n",
    "                torch.save(\n",
    "                    model, \"{}{}{}.pt\".format(MODEL_PATH, model.__class__.__name__, model.num_factors)\n",
    "                )\n"
   ]
  },
  {
   "attachments": {},
   "cell_type": "markdown",
   "metadata": {},
   "source": [
    "## General Matrix Factorization (GMF)"
   ]
  },
  {
   "cell_type": "code",
   "execution_count": 10,
   "metadata": {},
   "outputs": [],
   "source": [
    "class GMF(nn.Module):\n",
    "    def __init__(self, num_users, num_items):\n",
    "        super(GMF, self).__init__()\n",
    "        self.num_users = num_users\n",
    "        self.num_items = num_items\n",
    "        self.num_factors = args[\"num_factors\"]\n",
    "\n",
    "        self.embedding_user = nn.Embedding(\n",
    "            num_embeddings=self.num_users, embedding_dim=self.num_factors\n",
    "        )\n",
    "        self.embedding_item = nn.Embedding(\n",
    "            num_embeddings=self.num_items, embedding_dim=self.num_factors\n",
    "        )\n",
    "\n",
    "        self.affine_output = nn.Linear(in_features=self.num_factors, out_features=1)\n",
    "        self.logistic = nn.Sigmoid()\n",
    "\n",
    "    def forward(self, user_indices, item_indices):\n",
    "        user_embedding = self.embedding_user(user_indices)\n",
    "        item_embedding = self.embedding_item(item_indices)\n",
    "        element_product = torch.mul(user_embedding, item_embedding)\n",
    "        logits = self.affine_output(element_product)\n",
    "        rating = self.logistic(logits)\n",
    "        return rating.squeeze()\n"
   ]
  },
  {
   "attachments": {},
   "cell_type": "markdown",
   "metadata": {},
   "source": [
    "### Training and save of GMF model"
   ]
  },
  {
   "cell_type": "code",
   "execution_count": 11,
   "metadata": {},
   "outputs": [],
   "source": [
    "#gmf_model = GMF(num_users, num_items)\n",
    "#train_model(gmf_model, train_loader, test_loader)"
   ]
  },
  {
   "attachments": {},
   "cell_type": "markdown",
   "metadata": {},
   "source": [
    "## Multi Layer Perceptron (MLP)"
   ]
  },
  {
   "cell_type": "code",
   "execution_count": 12,
   "metadata": {},
   "outputs": [],
   "source": [
    "class MLP(nn.Module):\n",
    "    def __init__(self, num_users, num_items):\n",
    "        super(MLP, self).__init__()\n",
    "        self.num_users = num_users\n",
    "        self.num_items = num_items\n",
    "        self.num_factors = args[\"num_factors\"]\n",
    "\n",
    "        self.embedding_user = nn.Embedding(\n",
    "            num_embeddings=num_users, embedding_dim=args[\"num_factors\"]\n",
    "        )\n",
    "        self.embedding_item = nn.Embedding(\n",
    "            num_embeddings=num_items, embedding_dim=args[\"num_factors\"]\n",
    "        )\n",
    "\n",
    "        layer_sizes = args[\"layers\"]\n",
    "        layers = []\n",
    "        layers.append(nn.Linear(args[\"num_factors\"] * 2, layer_sizes[0]))\n",
    "        for in_size, out_size in zip(layer_sizes[:-1], layer_sizes[1:]):\n",
    "            layers.append(nn.Linear(in_size, out_size))\n",
    "            layers.append(nn.ReLU())\n",
    "        self.mlp_fc = nn.Sequential(*layers)\n",
    "        self.mlp_fc.add_module(\"affine\", nn.Linear(layer_sizes[-1], 1))\n",
    "        self.mlp_fc.add_module(\"logit\", nn.Sigmoid())\n",
    "\n",
    "    def forward(self, user_indices, item_indices):\n",
    "        user_embedding = self.embedding_user(user_indices)\n",
    "        item_embedding = self.embedding_item(item_indices)\n",
    "        vector = torch.cat([user_embedding, item_embedding], dim=-1)\n",
    "        rating = self.mlp_fc(vector)\n",
    "        return rating.squeeze()\n"
   ]
  },
  {
   "attachments": {},
   "cell_type": "markdown",
   "metadata": {},
   "source": [
    "### Training and Save of MLP model"
   ]
  },
  {
   "cell_type": "code",
   "execution_count": 13,
   "metadata": {},
   "outputs": [],
   "source": [
    "#mlp_model = MLP(num_users, num_items)\n",
    "#train_model(mlp_model, train_loader, test_loader)"
   ]
  },
  {
   "attachments": {},
   "cell_type": "markdown",
   "metadata": {},
   "source": [
    "# Task 1 - Neural Matrix Factorization"
   ]
  },
  {
   "attachments": {},
   "cell_type": "markdown",
   "metadata": {},
   "source": [
    "### Neural Matrix Factorization class definition\n",
    "The class is defined in the neumf.py file in order to avoid a pickle error in the Hyperparameter tuning section (at the end of the file). \n",
    "\n",
    "The following class is reported to show the structure and is renamed to avoid name conflicts.\n",
    "\n",
    "Idea: combine structures of GMF and MLP models for obtaining a more accurate relevance score. We allow GMF and MLP to have different num_factors.\n",
    "\n",
    "From the GMF we removed the Sigmoid layer and put the out dimension of the linear layer to num_factors_gmf.\n",
    "\n",
    "Also from the MLP we removed its final Sigmoid layer and the last linear layer and its structure has been modified to obtain a tower, halving its input dimension( = concatenation of user and item embeddings) 3 times.\n",
    "For instance: if num_factor_MLP = 64, then the concatenation of the embeddings has size 128 and it is halved with 3 layers: 128->64, 64->32, 32->16.\n",
    "\n",
    "Then, we concatenate the two final layers of the \"pruned\" GMF and MLP and pass it to a MLP tower-like structure with 2 halving layers and finally a linear layer followed by a Sigmoid."
   ]
  },
  {
   "cell_type": "code",
   "execution_count": 14,
   "metadata": {},
   "outputs": [],
   "source": [
    "class NeuMF_class(nn.Module):\n",
    "    def __init__(self, num_factors_gmf, num_factors_mlp, num_users, num_items, dropout):\n",
    "\n",
    "        super(NeuMF, self).__init__()\n",
    "        self.num_users = num_users\n",
    "        self.num_items = num_items\n",
    "        self.dropout = dropout\n",
    "        self.num_factors_gmf = num_factors_gmf \n",
    "        self.num_factors_mlp = num_factors_mlp \n",
    "        self.num_factors = max(num_factors_mlp, num_factors_gmf) #just for saving model name purpose\n",
    "\n",
    "        # GMF component\n",
    "        self.gmf_user_embed = nn.Sequential(\n",
    "            nn.Embedding(num_embeddings=self.num_users, embedding_dim=self.num_factors_gmf),\n",
    "            nn.Dropout(p=self.dropout[1]),\n",
    "        )\n",
    "        self.gmf_item_embed = nn.Sequential(\n",
    "            nn.Embedding(num_embeddings=self.num_items, embedding_dim=self.num_factors_gmf),\n",
    "            nn.Dropout(p=self.dropout[1]),\n",
    "        )\n",
    "        self.gmf_affine = nn.Linear(\n",
    "            in_features=self.num_factors_gmf, out_features=self.num_factors_gmf, bias=True\n",
    "        )\n",
    "\n",
    "        # MLP component\n",
    "        self.mlp_user_embed = nn.Sequential(\n",
    "            nn.Embedding(num_embeddings=self.num_users, embedding_dim=self.num_factors_mlp),\n",
    "            nn.Dropout(p=self.dropout[2]),\n",
    "        )\n",
    "        self.mlp_item_embed = nn.Sequential(\n",
    "            nn.Embedding(num_embeddings=self.num_items, embedding_dim=self.num_factors_mlp),\n",
    "            nn.Dropout(p=self.dropout[2]),\n",
    "        )\n",
    "\n",
    "        self.mlp_fc = nn.Sequential(\n",
    "            #We have considered as possible num_factors [8, 16, 32, 64] so this structure works\n",
    "            nn.Linear(2 * self.num_factors_mlp, self.num_factors_mlp),\n",
    "            nn.Dropout(p = dropout[3]),\n",
    "            nn.ReLU(),\n",
    "\n",
    "            nn.Linear(self.num_factors_mlp, int(self.num_factors_mlp / 2)),\n",
    "            nn.Dropout(p = dropout[3] / 2),\n",
    "            nn.ReLU(),\n",
    "\n",
    "            nn.Linear(int(self.num_factors_mlp / 2), int(self.num_factors_mlp / 4)),  \n",
    "            nn.Dropout(p = dropout[3] / 4),\n",
    "            nn.ReLU()\n",
    "        )\n",
    "\n",
    "        # Combine models\n",
    "        input_dim = self.num_factors_gmf + int(self.num_factors_mlp / 4)\n",
    "        self.mixing_layers = nn.Sequential(\n",
    "            nn.Linear(input_dim, int(input_dim / 2)),\n",
    "            nn.Dropout(p=dropout[0]),\n",
    "            nn.ReLU(),\n",
    "\n",
    "            nn.Linear(int(input_dim / 2), int(input_dim / 4)),\n",
    "            nn.Dropout(p=dropout[0] / 2),\n",
    "            nn.ReLU(),\n",
    "\n",
    "            nn.Linear(int(input_dim / 4), 1),\n",
    "            nn.Sigmoid(),\n",
    "        )\n",
    "\n",
    "    def forward(self, user_indices, item_indices):\n",
    "        # GMF forward\n",
    "        user_embedding_gmf = self.gmf_user_embed(user_indices)\n",
    "        item_embedding_gmf = self.gmf_item_embed(item_indices)\n",
    "\n",
    "        element_product = torch.mul(user_embedding_gmf, item_embedding_gmf)\n",
    "        ratings_gmf = self.gmf_affine(element_product)\n",
    "\n",
    "        # MLP forward\n",
    "        user_embedding_mlp = self.mlp_user_embed(user_indices)\n",
    "        item_embedding_mlp = self.mlp_item_embed(item_indices)\n",
    "\n",
    "        vector = torch.cat((user_embedding_mlp, item_embedding_mlp), dim=-1)\n",
    "        ratings_mlp = self.mlp_fc(vector)\n",
    "\n",
    "        # Combine\n",
    "        ratings = torch.cat((ratings_gmf, ratings_mlp), dim=1)\n",
    "        return self.mixing_layers(ratings).squeeze()\n",
    "\n"
   ]
  },
  {
   "attachments": {},
   "cell_type": "markdown",
   "metadata": {},
   "source": [
    "### Training and Save of NeuMF Model"
   ]
  },
  {
   "cell_type": "code",
   "execution_count": 15,
   "metadata": {},
   "outputs": [
    {
     "data": {
      "text/plain": [
       "\"args['num_factors'] = 8\\nargs['lr'] = 0.01\\nnum_factors = [16, 32, 64]\\nfor n in num_factors:\\n    nmf_model = NeuMF(n, n, num_users, num_items, [0, 0, 0, 0,])\\n    train_model(nmf_model, train_loader, test_loader)\""
      ]
     },
     "execution_count": 15,
     "metadata": {},
     "output_type": "execute_result"
    }
   ],
   "source": [
    "\"\"\"args['num_factors'] = 8\n",
    "args['lr'] = 0.01\n",
    "num_factors = [16, 32, 64]\n",
    "for n in num_factors:\n",
    "    nmf_model = NeuMF(n, n, num_users, num_items, [0, 0, 0, 0,])\n",
    "    train_model(nmf_model, train_loader, test_loader)\"\"\""
   ]
  },
  {
   "attachments": {},
   "cell_type": "markdown",
   "metadata": {},
   "source": [
    "# Task 2 - Models Evaluation"
   ]
  },
  {
   "attachments": {},
   "cell_type": "markdown",
   "metadata": {},
   "source": [
    "## HR and NDCG Metrics evaluation\n",
    "Here, we compare the performance of the three models (GMF, MLP, NeuMF).\n",
    "\n",
    "We will also compare the HR and NDCG while letting the number of recommendations (k) vary."
   ]
  },
  {
   "cell_type": "code",
   "execution_count": 16,
   "metadata": {},
   "outputs": [],
   "source": [
    "from tqdm import tqdm\n",
    "import pandas as pd\n",
    "\n",
    "def model_evaluation(models_dict, test_loader, k_range = range(5, 15), device = torch.device(\"cpu\")): #the function expects a dict {\"model name\": model}\n",
    "  for key in models_dict:\n",
    "    models_dict[key] = models_dict[key].to(device)\n",
    "\n",
    "  HR = np.zeros((len(k_range), len(models_dict)))\n",
    "  NDCG = np.zeros((len(k_range), len(models_dict)))\n",
    "  for k in tqdm(range(0, k_range.stop - k_range.start)):\n",
    "    for model_index, key in enumerate(models_dict):\n",
    "      HR[k, model_index], NDCG[k, model_index] = metrics(models_dict[key], test_loader, k_range.start + k, device)\n",
    "\n",
    "  HR_result = pd.DataFrame(data = HR, columns = models_dict.keys(), index = k_range)\n",
    "  NDCG_result = pd.DataFrame(data = NDCG, columns = models_dict.keys(), index = k_range)\n",
    "  return HR_result, NDCG_result\n"
   ]
  },
  {
   "cell_type": "code",
   "execution_count": 17,
   "metadata": {},
   "outputs": [
    {
     "name": "stderr",
     "output_type": "stream",
     "text": [
      "100%|██████████| 8/8 [00:40<00:00,  5.12s/it]\n"
     ]
    }
   ],
   "source": [
    "mlp_model = torch.load(MODEL_PATH + \"MLP32.pt\", map_location = device)\n",
    "gmf_model = torch.load(MODEL_PATH + \"GMF32.pt\", map_location = device)\n",
    "nmf_model = torch.load(MODEL_PATH + \"NeuMF32.pt\", map_location = device)\n",
    "mlp_model = mlp_model.to(device)\n",
    "gmf_model = gmf_model.to(device)\n",
    "nmf_model = nmf_model.to(device)\n",
    "\n",
    "models_dict = {\"GMF\": gmf_model, \"MLP\": mlp_model, \"NeuMF\": nmf_model}\n",
    "HR, NDCG = model_evaluation(models_dict, test_loader, device = device, k_range = range(7, 15))"
   ]
  },
  {
   "cell_type": "code",
   "execution_count": 18,
   "metadata": {},
   "outputs": [
    {
     "data": {
      "image/png": "[encoded data removed]",
      "text/plain": [
       "<Figure size 2000x500 with 2 Axes>"
      ]
     },
     "metadata": {},
     "output_type": "display_data"
    }
   ],
   "source": [
    "import matplotlib.pyplot as plt\n",
    "fig, (hr_ax, ndcg_ax) = plt.subplots(1,2, figsize = (20, 5))\n",
    "colors = [\"green\", \"blue\", \"purple\"]\n",
    "for num, i in enumerate(HR.columns):\n",
    "  hr_ax.plot(HR[i], label = i, color = colors[num])\n",
    "  ndcg_ax.plot(NDCG[i], label = i, color = colors[num])\n",
    "  hr_ax.plot([10],[HR[i][10]], marker = \"o\", color = colors[num], label = \"HR@10\")\n",
    "  ndcg_ax.plot([10],[NDCG[i][10]], marker = \"o\", color = colors[num], label = \"NDCG@10\")\n",
    "\n",
    "\n",
    "hr_ax.set_title(\"Hit Rate while number of recommendations vary\")\n",
    "ndcg_ax.set_title(\"NDCG Rate while number of recommendations vary\")\n",
    "hr_ax.set_ylabel(\"HR\")\n",
    "hr_ax.set_xlabel(\"K value\")\n",
    "ndcg_ax.set_ylabel(\"NDCG\")\n",
    "ndcg_ax.set_xlabel(\"K value\")\n",
    "hr_ax.legend()\n",
    "ndcg_ax.legend()\n",
    "plt.show()"
   ]
  },
  {
   "attachments": {},
   "cell_type": "markdown",
   "metadata": {},
   "source": [
    "# Task 3 - Metrics Evaluation while num factors vary\n",
    "\n",
    "Here, we compare the three models with different num_factors: the idea is to find the optimal number of latent variables to describe the user-item interactions."
   ]
  },
  {
   "cell_type": "code",
   "execution_count": 19,
   "metadata": {},
   "outputs": [],
   "source": [
    "num_factors = [8, 16, 32, 64]\n",
    "#do not change the order of HR and NDCG matrices\n",
    "model_names = [\"GMF Model\", \"MLP Model\", \"NeuMF model\"]\n",
    "mlp_models, gmf_models, nmf_models = {}, {}, {}\n",
    "\n",
    "#I create a dict containing as the key the num_factor and as a value the relative model \n",
    "for num in num_factors:\n",
    "    mlp_models[num] = torch.load(MODEL_PATH + \"MLP{}.pt\".format(num), map_location = device)\n",
    "    gmf_models[num] = torch.load(MODEL_PATH + \"GMF{}.pt\".format(num), map_location = device)\n",
    "    nmf_models[num] = torch.load(MODEL_PATH + \"NeuMF{}.pt\".format(num), map_location = device)"
   ]
  },
  {
   "cell_type": "code",
   "execution_count": 20,
   "metadata": {},
   "outputs": [
    {
     "name": "stderr",
     "output_type": "stream",
     "text": [
      "100%|██████████| 4/4 [00:24<00:00,  6.07s/it]\n"
     ]
    }
   ],
   "source": [
    "HR, NDCG = list([]), list([])\n",
    "\n",
    "#for each num factor and for each model I compute the provided metrics on the test set\n",
    "for num in tqdm(num_factors):\n",
    "    hr_gmf, ndcg_gmf = metrics(gmf_models[num], test_loader, 10, device)\n",
    "    hr_mlp, ndcg_mlp = metrics(mlp_models[num], test_loader, 10, device)\n",
    "    hr_nmf, ndcg_nmf = metrics(nmf_models[num], test_loader, 10, device)\n",
    "    HR.append([hr_gmf, hr_mlp, hr_nmf])\n",
    "    NDCG.append([ndcg_gmf, ndcg_mlp, ndcg_nmf])"
   ]
  },
  {
   "cell_type": "code",
   "execution_count": 21,
   "metadata": {},
   "outputs": [],
   "source": [
    "#Here I transpose the matrices because I need to have on the same row the results of the metrics for the same model (in order to construct the bar plot)\n",
    "HR = np.array(HR).T\n",
    "NDCG = np.array(NDCG).T"
   ]
  },
  {
   "cell_type": "code",
   "execution_count": 22,
   "metadata": {},
   "outputs": [
    {
     "data": {
      "text/plain": [
       "<matplotlib.legend.Legend at 0x7fce408f2f20>"
      ]
     },
     "execution_count": 22,
     "metadata": {},
     "output_type": "execute_result"
    },
    {
     "data": {
      "image/png": "[encoded data removed]",
      "text/plain": [
       "<Figure size 1000x800 with 2 Axes>"
      ]
     },
     "metadata": {},
     "output_type": "display_data"
    }
   ],
   "source": [
    "from matplotlib.container import BarContainer \n",
    "fig, (ax1, ax2) = plt.subplots(2, 1, layout='constrained', figsize = (10,8))\n",
    "x = np.arange(HR.shape[1])\n",
    "offset = -0.2\n",
    "for i in range(len(HR)):\n",
    "    rects1 = ax1.bar(x + offset, np.round(HR[i], 3), width=0.2, label = model_names[i])\n",
    "    rects2 = ax2.bar(x + offset, np.round(NDCG[i], 3), width=0.2, label = model_names[i])\n",
    "    ax1.bar_label(rects1, padding = 2)\n",
    "    ax2.bar_label(rects2, padding = 2)\n",
    "    offset += 0.2\n",
    "\n",
    "ax1.set_ylim(min(HR.reshape(-1,1)) - 0.05, max(HR.reshape(-1,1)) + 0.05)\n",
    "ax2.set_ylim(min(NDCG.reshape(-1,1)) - 0.05, max(NDCG.reshape(-1,1)) + 0.05)\n",
    "\n",
    "ax1.set_xticks(x)\n",
    "ax1.set_ylabel(\"HR\")\n",
    "ax1.set_xticklabels(num_factors)\n",
    "ax1.set_xlabel(\"num factors\")\n",
    "\n",
    "\n",
    "ax2.set_xticks(x)\n",
    "ax2.set_ylabel(\"NDCG\")\n",
    "ax2.set_xlabel(\"num factors\")\n",
    "ax2.set_xticklabels(num_factors)\n",
    "\n",
    "ax1.set_title(\"Hit Rate\")\n",
    "ax2.set_title(\"Normalized Discounted Cumulative Gain\")\n",
    "\n",
    "ax1.legend()\n",
    "ax2.legend()\n",
    "\n"
   ]
  },
  {
   "cell_type": "markdown",
   "metadata": {},
   "source": [
    "## HyperParameter Tuning With RayTune\n",
    "\n",
    "Finally, we decided to use the RayTune library in order to perform the HyperParameter tuning of the models, in order to find the configuration that returns the best results."
   ]
  },
  {
   "cell_type": "markdown",
   "metadata": {},
   "source": [
    "### We first need to define a config dict that defines the search space of the hyperparameters"
   ]
  },
  {
   "cell_type": "code",
   "execution_count": 23,
   "metadata": {},
   "outputs": [
    {
     "data": {
      "text/plain": [
       "array([[0. , 0. , 0. , 0.5],\n",
       "       [0. , 0.5, 0.5, 0. ],\n",
       "       [0. , 0.2, 0.2, 0.2],\n",
       "       [0.5, 0. , 0. , 0.2],\n",
       "       [0. , 0. , 0. , 0.2],\n",
       "       [0.2, 0. , 0. , 0.5],\n",
       "       [0. , 0. , 0. , 0. ],\n",
       "       [0.2, 0.2, 0.2, 0.5],\n",
       "       [0.2, 0.2, 0.2, 0.5],\n",
       "       [0. , 0.2, 0.2, 0. ],\n",
       "       [0.5, 0. , 0. , 0.5],\n",
       "       [0.2, 0.5, 0.5, 0. ],\n",
       "       [0.5, 0.2, 0.2, 0. ],\n",
       "       [0.2, 0. , 0. , 0.5],\n",
       "       [0.2, 0. , 0. , 0.5],\n",
       "       [0.5, 0. , 0. , 0.5],\n",
       "       [0. , 0. , 0. , 0.2],\n",
       "       [0. , 0. , 0. , 0. ],\n",
       "       [0. , 0. , 0. , 0.5],\n",
       "       [0. , 0. , 0. , 0.2]])"
      ]
     },
     "execution_count": 23,
     "metadata": {},
     "output_type": "execute_result"
    }
   ],
   "source": [
    "# Prob Distr for dropout parameters for hyerparameters tuning\n",
    "emb = np.random.choice([0, 0.2, 0.5], size = (20, ), p = [0.6, 0.3, 0.1])\n",
    "mlp = np.random.choice([0, 0.2, 0.5], size = (20, ), p = [0.2, 0.3, 0.5])\n",
    "mix = np.random.choice([0, 0.2, 0.5], size = (20, ), p = [0.5, 0.4, 0.1])\n",
    "\n",
    "dropout_table = np.array([mix, emb, emb, mlp]).T\n",
    "dropout_table\n"
   ]
  },
  {
   "cell_type": "code",
   "execution_count": 24,
   "metadata": {},
   "outputs": [],
   "source": [
    "config = {\n",
    "    \"lr\": tune.choice([0.01, 0.001]),\n",
    "    \"batch_size\": tune.choice([128, 256, 512]),\n",
    "    \"num_factors_gmf\": 8,#tune.choice([8, 16, 32, 64]),\n",
    "    \"num_factors_mlp\": 64,#tune.choice([8, 16, 32, 64]),\n",
    "    \"epochs\": 20,\n",
    "    \"out\": True,\n",
    "    \"dropout\": tune.choice(dropout_table)\n",
    "}"
   ]
  },
  {
   "cell_type": "code",
   "execution_count": 25,
   "metadata": {},
   "outputs": [],
   "source": [
    "config = {\n",
    "    \"lr\": 0.01,\n",
    "    \"batch_size\": tune.choice([128, 256]),\n",
    "    \"num_factors_gmf\": tune.choice([8, 16, 32]),#tune.choice([8, 16, 32, 64]),\n",
    "    \"num_factors_mlp\": 64,#tune.choice([8, 16, 32, 64]),\n",
    "    \"epochs\": 20,\n",
    "    \"out\": True,\n",
    "    \"dropout\": [0, 0, 0, 0]\n",
    "}"
   ]
  },
  {
   "cell_type": "markdown",
   "metadata": {},
   "source": [
    "### Initialize the scheduler and running the HT procedure\n",
    "There is a paper related to the ASAH Scheduler at :https://arxiv.org/abs/1810.05934"
   ]
  },
  {
   "cell_type": "code",
   "execution_count": 26,
   "metadata": {},
   "outputs": [],
   "source": [
    "scheduler = ASHAScheduler(\n",
    "        metric=\"HitRate\",\n",
    "        mode=\"max\",\n",
    "        max_t=20,\n",
    "        grace_period=8,\n",
    "        reduction_factor=2)\n",
    "\n",
    "reporter = CLIReporter(\n",
    "        metric_columns=[\"HitRate\"]\n",
    ")"
   ]
  },
  {
   "cell_type": "markdown",
   "metadata": {},
   "source": [
    "### Train Function\n",
    "We have to define a train function that takes as argument the config file.\n",
    "This function will:\n",
    "- Initialize NeuMF model with the specified config parameters (num factors, layers, dropout vector for the different layers)\n",
    "- Initialize Train and validation dataloaders\n",
    "- Train the model on the Train dataloader\n",
    "- Evaluate the validation loss and report it to RayTune\n",
    "- Save the best model\n"
   ]
  },
  {
   "cell_type": "code",
   "execution_count": 27,
   "metadata": {},
   "outputs": [],
   "source": [
    "# trains and save the model and returns the lists of train_loss and validation_loss\n",
    "def train_NeuMF(config, model = None):\n",
    "    # model = NeuMF_parametric_dropout(config['num_factors'], num_users, num_items, config['layers'], config['dropout'])\n",
    "    new = False\n",
    "    if model == None:\n",
    "        model = NeuMF(\n",
    "            config[\"num_factors_gmf\"], config['num_factors_mlp'], num_users, num_items, config[\"dropout\"]\n",
    "        )\n",
    "        new = True\n",
    "\n",
    "    model = model.to(device)\n",
    "\n",
    "    loss_function = nn.BCELoss()\n",
    "    optimizer = optim.Adam(model.parameters(), lr=config[\"lr\"])\n",
    "    best_hr = 0\n",
    "\n",
    "    for epoch in range(config[\"epochs\"]):\n",
    "        model.train()  # Enable dropout (if present).\n",
    "        start_time = time.time()\n",
    "\n",
    "        for user, item, label in train_loader:\n",
    "            user = user.to(device)\n",
    "            item = item.to(device)\n",
    "            label = label.to(device)\n",
    "\n",
    "            optimizer.zero_grad()\n",
    "            prediction = model(user, item)\n",
    "            loss = loss_function(prediction, label)\n",
    "            loss.backward()\n",
    "            optimizer.step()\n",
    "\n",
    "        model.eval()\n",
    "        HR, NDCG = metrics(model, test_loader, args[\"top_k\"], device)\n",
    "\n",
    "        elapsed_time = time.time() - start_time\n",
    "        if not new:\n",
    "            print(\n",
    "                \"Epoch {:03d}\".format(epoch)\n",
    "                + \" time to train: \"\n",
    "                + time.strftime(\"%H: %M: %S\", time.gmtime(elapsed_time))\n",
    "            )\n",
    "            print(\"HR: {:.3f}\\tNDCG: {:.3f}\".format(np.mean(HR), np.mean(NDCG)))\n",
    "\n",
    "        if HR > best_hr:\n",
    "            best_hr = HR\n",
    "            if args[\"out\"]:\n",
    "                if not os.path.exists(MODEL_PATH):\n",
    "                    os.mkdir(MODEL_PATH)\n",
    "                if new:\n",
    "                    torch.save(\n",
    "                        model, \"{}{}{}_tuned.pt\".format(MODEL_PATH, model.__class__.__name__, model.num_factors)\n",
    "                    )\n",
    "                else:\n",
    "                    torch.save(\n",
    "                        model, \"{}{}{}_local_search.pt\".format(MODEL_PATH, model.__class__.__name__, model.num_factors)\n",
    "                    )\n",
    "\n",
    "\n",
    "        with tune.checkpoint_dir(epoch) as checkpoint_dir:\n",
    "            path = os.path.join(checkpoint_dir, \"checkpoint\")\n",
    "            torch.save((model.state_dict(), optimizer.state_dict()), path)\n",
    "\n",
    "        tune.report(HitRate=HR)\n"
   ]
  },
  {
   "cell_type": "code",
   "execution_count": 28,
   "metadata": {},
   "outputs": [
    {
     "name": "stderr",
     "output_type": "stream",
     "text": [
      "2023-03-24 13:35:54,711\tINFO worker.py:1553 -- Started a local Ray instance.\n"
     ]
    },
    {
     "name": "stdout",
     "output_type": "stream",
     "text": [
      "== Status ==\n",
      "Current time: 2023-03-24 13:35:57 (running for 00:00:01.21)\n",
      "Memory usage on this node: 4.3/15.2 GiB \n",
      "Using AsyncHyperBand: num_stopped=0\n",
      "Bracket: Iter 16.000: None | Iter 8.000: None\n",
      "Resources requested: 8.0/8 CPUs, 0/0 GPUs, 0.0/7.63 GiB heap, 0.0/3.81 GiB objects\n",
      "Result logdir: /home/agoniko/Desktop/Uni/DEEP_LEARNING/Neural_collaborative_filtering/Assignment1/checkpoints/train_NeuMF_2023-03-24_13-35-56\n",
      "Number of trials: 10/10 (9 PENDING, 1 RUNNING)\n",
      "+-------------------------+----------+---------------------+--------------+-------------------+\n",
      "| Trial name              | status   | loc                 |   batch_size |   num_factors_gmf |\n",
      "|-------------------------+----------+---------------------+--------------+-------------------|\n",
      "| train_NeuMF_6c8af_00000 | RUNNING  | 10.253.219.100:8721 |          256 |                 8 |\n",
      "| train_NeuMF_6c8af_00001 | PENDING  |                     |          128 |                16 |\n",
      "| train_NeuMF_6c8af_00002 | PENDING  |                     |          256 |                 8 |\n",
      "| train_NeuMF_6c8af_00003 | PENDING  |                     |          128 |                 8 |\n",
      "| train_NeuMF_6c8af_00004 | PENDING  |                     |          128 |                 8 |\n",
      "| train_NeuMF_6c8af_00005 | PENDING  |                     |          256 |                32 |\n",
      "| train_NeuMF_6c8af_00006 | PENDING  |                     |          128 |                32 |\n",
      "| train_NeuMF_6c8af_00007 | PENDING  |                     |          128 |                 8 |\n",
      "| train_NeuMF_6c8af_00008 | PENDING  |                     |          256 |                 8 |\n",
      "| train_NeuMF_6c8af_00009 | PENDING  |                     |          128 |                16 |\n",
      "+-------------------------+----------+---------------------+--------------+-------------------+\n",
      "\n",
      "\n"
     ]
    },
    {
     "name": "stderr",
     "output_type": "stream",
     "text": [
      "2023-03-24 13:36:05,433\tWARNING tune.py:146 -- Stop signal received (e.g. via SIGINT/Ctrl+C), ending Ray Tune run. This will try to checkpoint the experiment state one last time. Press CTRL+C (or send SIGINT/SIGKILL/SIGTERM) to skip. \n",
      "2023-03-24 13:36:05,443\tERROR tune.py:794 -- Trials did not complete: [train_NeuMF_6c8af_00000, train_NeuMF_6c8af_00001, train_NeuMF_6c8af_00002, train_NeuMF_6c8af_00003, train_NeuMF_6c8af_00004, train_NeuMF_6c8af_00005, train_NeuMF_6c8af_00006, train_NeuMF_6c8af_00007, train_NeuMF_6c8af_00008, train_NeuMF_6c8af_00009]\n",
      "2023-03-24 13:36:05,444\tINFO tune.py:798 -- Total run time: 9.04 seconds (8.81 seconds for the tuning loop).\n",
      "2023-03-24 13:36:05,444\tWARNING tune.py:804 -- Experiment has been interrupted, but the most recent state was saved. You can continue running this experiment by passing `resume=True` to `tune.run()`\n"
     ]
    },
    {
     "name": "stdout",
     "output_type": "stream",
     "text": [
      "== Status ==\n",
      "Current time: 2023-03-24 13:36:05 (running for 00:00:08.81)\n",
      "Memory usage on this node: 4.7/15.2 GiB \n",
      "Using AsyncHyperBand: num_stopped=0\n",
      "Bracket: Iter 16.000: None | Iter 8.000: None\n",
      "Resources requested: 8.0/8 CPUs, 0/0 GPUs, 0.0/7.63 GiB heap, 0.0/3.81 GiB objects\n",
      "Result logdir: /home/agoniko/Desktop/Uni/DEEP_LEARNING/Neural_collaborative_filtering/Assignment1/checkpoints/train_NeuMF_2023-03-24_13-35-56\n",
      "Number of trials: 10/10 (9 PENDING, 1 RUNNING)\n",
      "+-------------------------+----------+---------------------+--------------+-------------------+\n",
      "| Trial name              | status   | loc                 |   batch_size |   num_factors_gmf |\n",
      "|-------------------------+----------+---------------------+--------------+-------------------|\n",
      "| train_NeuMF_6c8af_00000 | RUNNING  | 10.253.219.100:8721 |          256 |                 8 |\n",
      "| train_NeuMF_6c8af_00001 | PENDING  |                     |          128 |                16 |\n",
      "| train_NeuMF_6c8af_00002 | PENDING  |                     |          256 |                 8 |\n",
      "| train_NeuMF_6c8af_00003 | PENDING  |                     |          128 |                 8 |\n",
      "| train_NeuMF_6c8af_00004 | PENDING  |                     |          128 |                 8 |\n",
      "| train_NeuMF_6c8af_00005 | PENDING  |                     |          256 |                32 |\n",
      "| train_NeuMF_6c8af_00006 | PENDING  |                     |          128 |                32 |\n",
      "| train_NeuMF_6c8af_00007 | PENDING  |                     |          128 |                 8 |\n",
      "| train_NeuMF_6c8af_00008 | PENDING  |                     |          256 |                 8 |\n",
      "| train_NeuMF_6c8af_00009 | PENDING  |                     |          128 |                16 |\n",
      "+-------------------------+----------+---------------------+--------------+-------------------+\n",
      "\n",
      "\n",
      "== Status ==\n",
      "Current time: 2023-03-24 13:36:05 (running for 00:00:08.81)\n",
      "Memory usage on this node: 4.7/15.2 GiB \n",
      "Using AsyncHyperBand: num_stopped=0\n",
      "Bracket: Iter 16.000: None | Iter 8.000: None\n",
      "Resources requested: 8.0/8 CPUs, 0/0 GPUs, 0.0/7.63 GiB heap, 0.0/3.81 GiB objects\n",
      "Result logdir: /home/agoniko/Desktop/Uni/DEEP_LEARNING/Neural_collaborative_filtering/Assignment1/checkpoints/train_NeuMF_2023-03-24_13-35-56\n",
      "Number of trials: 10/10 (9 PENDING, 1 RUNNING)\n",
      "+-------------------------+----------+---------------------+--------------+-------------------+\n",
      "| Trial name              | status   | loc                 |   batch_size |   num_factors_gmf |\n",
      "|-------------------------+----------+---------------------+--------------+-------------------|\n",
      "| train_NeuMF_6c8af_00000 | RUNNING  | 10.253.219.100:8721 |          256 |                 8 |\n",
      "| train_NeuMF_6c8af_00001 | PENDING  |                     |          128 |                16 |\n",
      "| train_NeuMF_6c8af_00002 | PENDING  |                     |          256 |                 8 |\n",
      "| train_NeuMF_6c8af_00003 | PENDING  |                     |          128 |                 8 |\n",
      "| train_NeuMF_6c8af_00004 | PENDING  |                     |          128 |                 8 |\n",
      "| train_NeuMF_6c8af_00005 | PENDING  |                     |          256 |                32 |\n",
      "| train_NeuMF_6c8af_00006 | PENDING  |                     |          128 |                32 |\n",
      "| train_NeuMF_6c8af_00007 | PENDING  |                     |          128 |                 8 |\n",
      "| train_NeuMF_6c8af_00008 | PENDING  |                     |          256 |                 8 |\n",
      "| train_NeuMF_6c8af_00009 | PENDING  |                     |          128 |                16 |\n",
      "+-------------------------+----------+---------------------+--------------+-------------------+\n",
      "\n",
      "\n"
     ]
    }
   ],
   "source": [
    "result = tune.run(\n",
    "    train_NeuMF,\n",
    "    local_dir=\"./checkpoints/\",\n",
    "    resources_per_trial={\"cpu\": 8},\n",
    "    config=config,\n",
    "    num_samples=10,\n",
    "    scheduler=scheduler,\n",
    "    progress_reporter=reporter,\n",
    "    checkpoint_at_end=False,\n",
    ")"
   ]
  },
  {
   "cell_type": "code",
   "execution_count": null,
   "metadata": {},
   "outputs": [],
   "source": [
    "\n",
    "best_trial = result.get_best_trial(\"loss\", \"min\", \"last\")\n",
    "best_checkpoint_dir = best_trial.checkpoint.dir_or_data\n",
    "model_state, optimizer_state = torch.load(os.path.join(\n",
    "    best_checkpoint_dir, \"checkpoint\"))\n",
    "\n",
    "best_trained_model = NeuMF(best_trial.config[\"num_factors\"], num_users, num_items, best_trial.config[\"layers\"], best_trial.config['dropout']) \n",
    "\n",
    "best_trained_model.load_state_dict(model_state)\n",
    "torch.save(best_trained_model, '{}{}{}_best_so_far.pt'.format(MODEL_PATH, best_trained_model.__class__.__name__, best_trained_model.factor_num))\n",
    "\n",
    "best_trial.config"
   ]
  },
  {
   "cell_type": "markdown",
   "metadata": {},
   "source": [
    "### Reporting the best configuration in our tests"
   ]
  },
  {
   "cell_type": "code",
   "execution_count": null,
   "metadata": {},
   "outputs": [],
   "source": [
    "best_config = {\n",
    "    \"lr\": 0.01,\n",
    "    \"batch_size\": 128,#128\n",
    "    \"num_factors_gmf\": 8,\n",
    "    \"num_factors_mlp\": 64,\n",
    "    \"epochs\": 25,\n",
    "    \"out\": True,\n",
    "    \"dropout\": [0, 0, 0, 0],\n",
    "}"
   ]
  },
  {
   "cell_type": "code",
   "execution_count": null,
   "metadata": {},
   "outputs": [
    {
     "data": {
      "text/plain": [
       "(0.6352067868504772, 0.37114583318415056)"
      ]
     },
     "execution_count": 24,
     "metadata": {},
     "output_type": "execute_result"
    }
   ],
   "source": [
    "best = torch.load(MODEL_PATH+\"NeuMF64_tuned.pt\")\n",
    "\n",
    "HR, NDCG = metrics(best, test_loader, 10, device)\n",
    "HR, NDCG"
   ]
  },
  {
   "cell_type": "code",
   "execution_count": null,
   "metadata": {},
   "outputs": [
    {
     "name": "stderr",
     "output_type": "stream",
     "text": [
      "Session not detected. You should not be calling `checkpoint_dir` outside `tuner.fit()` or while using the class API. \n",
      "  File \"/usr/lib/python3.10/runpy.py\", line 196, in _run_module_as_main\n",
      "    return _run_code(code, main_globals, None,\n",
      "  File \"/usr/lib/python3.10/runpy.py\", line 86, in _run_code\n",
      "    exec(code, run_globals)\n",
      "  File \"/home/agoniko/Desktop/Uni/DEEP_LEARNING/Neural_collaborative_filtering/Assignment1/venv/lib/python3.10/site-packages/ipykernel_launcher.py\", line 17, in <module>\n",
      "    app.launch_new_instance()\n",
      "  File \"/home/agoniko/Desktop/Uni/DEEP_LEARNING/Neural_collaborative_filtering/Assignment1/venv/lib/python3.10/site-packages/traitlets/config/application.py\", line 1043, in launch_instance\n",
      "    app.start()\n",
      "  File \"/home/agoniko/Desktop/Uni/DEEP_LEARNING/Neural_collaborative_filtering/Assignment1/venv/lib/python3.10/site-packages/ipykernel/kernelapp.py\", line 725, in start\n",
      "    self.io_loop.start()\n",
      "  File \"/home/agoniko/Desktop/Uni/DEEP_LEARNING/Neural_collaborative_filtering/Assignment1/venv/lib/python3.10/site-packages/tornado/platform/asyncio.py\", line 215, in start\n",
      "    self.asyncio_loop.run_forever()\n",
      "  File \"/usr/lib/python3.10/asyncio/base_events.py\", line 600, in run_forever\n",
      "    self._run_once()\n",
      "  File \"/usr/lib/python3.10/asyncio/base_events.py\", line 1896, in _run_once\n",
      "    handle._run()\n",
      "  File \"/usr/lib/python3.10/asyncio/events.py\", line 80, in _run\n",
      "    self._context.run(self._callback, *self._args)\n",
      "  File \"/home/agoniko/Desktop/Uni/DEEP_LEARNING/Neural_collaborative_filtering/Assignment1/venv/lib/python3.10/site-packages/ipykernel/kernelbase.py\", line 513, in dispatch_queue\n",
      "    await self.process_one()\n",
      "  File \"/home/agoniko/Desktop/Uni/DEEP_LEARNING/Neural_collaborative_filtering/Assignment1/venv/lib/python3.10/site-packages/ipykernel/kernelbase.py\", line 502, in process_one\n",
      "    await dispatch(*args)\n",
      "  File \"/home/agoniko/Desktop/Uni/DEEP_LEARNING/Neural_collaborative_filtering/Assignment1/venv/lib/python3.10/site-packages/ipykernel/kernelbase.py\", line 409, in dispatch_shell\n",
      "    await result\n",
      "  File \"/home/agoniko/Desktop/Uni/DEEP_LEARNING/Neural_collaborative_filtering/Assignment1/venv/lib/python3.10/site-packages/ipykernel/kernelbase.py\", line 729, in execute_request\n",
      "    reply_content = await reply_content\n",
      "  File \"/home/agoniko/Desktop/Uni/DEEP_LEARNING/Neural_collaborative_filtering/Assignment1/venv/lib/python3.10/site-packages/ipykernel/ipkernel.py\", line 422, in do_execute\n",
      "    res = shell.run_cell(\n",
      "  File \"/home/agoniko/Desktop/Uni/DEEP_LEARNING/Neural_collaborative_filtering/Assignment1/venv/lib/python3.10/site-packages/ipykernel/zmqshell.py\", line 540, in run_cell\n",
      "    return super().run_cell(*args, **kwargs)\n",
      "  File \"/home/agoniko/Desktop/Uni/DEEP_LEARNING/Neural_collaborative_filtering/Assignment1/venv/lib/python3.10/site-packages/IPython/core/interactiveshell.py\", line 2961, in run_cell\n",
      "    result = self._run_cell(\n",
      "  File \"/home/agoniko/Desktop/Uni/DEEP_LEARNING/Neural_collaborative_filtering/Assignment1/venv/lib/python3.10/site-packages/IPython/core/interactiveshell.py\", line 3016, in _run_cell\n",
      "    result = runner(coro)\n",
      "  File \"/home/agoniko/Desktop/Uni/DEEP_LEARNING/Neural_collaborative_filtering/Assignment1/venv/lib/python3.10/site-packages/IPython/core/async_helpers.py\", line 129, in _pseudo_sync_runner\n",
      "    coro.send(None)\n",
      "  File \"/home/agoniko/Desktop/Uni/DEEP_LEARNING/Neural_collaborative_filtering/Assignment1/venv/lib/python3.10/site-packages/IPython/core/interactiveshell.py\", line 3221, in run_cell_async\n",
      "    has_raised = await self.run_ast_nodes(code_ast.body, cell_name,\n",
      "  File \"/home/agoniko/Desktop/Uni/DEEP_LEARNING/Neural_collaborative_filtering/Assignment1/venv/lib/python3.10/site-packages/IPython/core/interactiveshell.py\", line 3400, in run_ast_nodes\n",
      "    if await self.run_code(code, result, async_=asy):\n",
      "  File \"/home/agoniko/Desktop/Uni/DEEP_LEARNING/Neural_collaborative_filtering/Assignment1/venv/lib/python3.10/site-packages/IPython/core/interactiveshell.py\", line 3460, in run_code\n",
      "    exec(code_obj, self.user_global_ns, self.user_ns)\n",
      "  File \"/tmp/ipykernel_3930/2703268187.py\", line 1, in <module>\n",
      "    train_NeuMF(best_config)\n",
      "  File \"/tmp/ipykernel_3930/3013103305.py\", line 61, in train_NeuMF\n",
      "    with tune.checkpoint_dir(epoch) as checkpoint_dir:\n",
      "  File \"/usr/lib/python3.10/contextlib.py\", line 135, in __enter__\n",
      "    return next(self.gen)\n",
      "\n",
      "Session not detected. You should not be calling `report` outside `tuner.fit()` or while using the class API. \n",
      "  File \"/usr/lib/python3.10/runpy.py\", line 196, in _run_module_as_main\n",
      "    return _run_code(code, main_globals, None,\n",
      "  File \"/usr/lib/python3.10/runpy.py\", line 86, in _run_code\n",
      "    exec(code, run_globals)\n",
      "  File \"/home/agoniko/Desktop/Uni/DEEP_LEARNING/Neural_collaborative_filtering/Assignment1/venv/lib/python3.10/site-packages/ipykernel_launcher.py\", line 17, in <module>\n",
      "    app.launch_new_instance()\n",
      "  File \"/home/agoniko/Desktop/Uni/DEEP_LEARNING/Neural_collaborative_filtering/Assignment1/venv/lib/python3.10/site-packages/traitlets/config/application.py\", line 1043, in launch_instance\n",
      "    app.start()\n",
      "  File \"/home/agoniko/Desktop/Uni/DEEP_LEARNING/Neural_collaborative_filtering/Assignment1/venv/lib/python3.10/site-packages/ipykernel/kernelapp.py\", line 725, in start\n",
      "    self.io_loop.start()\n",
      "  File \"/home/agoniko/Desktop/Uni/DEEP_LEARNING/Neural_collaborative_filtering/Assignment1/venv/lib/python3.10/site-packages/tornado/platform/asyncio.py\", line 215, in start\n",
      "    self.asyncio_loop.run_forever()\n",
      "  File \"/usr/lib/python3.10/asyncio/base_events.py\", line 600, in run_forever\n",
      "    self._run_once()\n",
      "  File \"/usr/lib/python3.10/asyncio/base_events.py\", line 1896, in _run_once\n",
      "    handle._run()\n",
      "  File \"/usr/lib/python3.10/asyncio/events.py\", line 80, in _run\n",
      "    self._context.run(self._callback, *self._args)\n",
      "  File \"/home/agoniko/Desktop/Uni/DEEP_LEARNING/Neural_collaborative_filtering/Assignment1/venv/lib/python3.10/site-packages/ipykernel/kernelbase.py\", line 513, in dispatch_queue\n",
      "    await self.process_one()\n",
      "  File \"/home/agoniko/Desktop/Uni/DEEP_LEARNING/Neural_collaborative_filtering/Assignment1/venv/lib/python3.10/site-packages/ipykernel/kernelbase.py\", line 502, in process_one\n",
      "    await dispatch(*args)\n",
      "  File \"/home/agoniko/Desktop/Uni/DEEP_LEARNING/Neural_collaborative_filtering/Assignment1/venv/lib/python3.10/site-packages/ipykernel/kernelbase.py\", line 409, in dispatch_shell\n",
      "    await result\n",
      "  File \"/home/agoniko/Desktop/Uni/DEEP_LEARNING/Neural_collaborative_filtering/Assignment1/venv/lib/python3.10/site-packages/ipykernel/kernelbase.py\", line 729, in execute_request\n",
      "    reply_content = await reply_content\n",
      "  File \"/home/agoniko/Desktop/Uni/DEEP_LEARNING/Neural_collaborative_filtering/Assignment1/venv/lib/python3.10/site-packages/ipykernel/ipkernel.py\", line 422, in do_execute\n",
      "    res = shell.run_cell(\n",
      "  File \"/home/agoniko/Desktop/Uni/DEEP_LEARNING/Neural_collaborative_filtering/Assignment1/venv/lib/python3.10/site-packages/ipykernel/zmqshell.py\", line 540, in run_cell\n",
      "    return super().run_cell(*args, **kwargs)\n",
      "  File \"/home/agoniko/Desktop/Uni/DEEP_LEARNING/Neural_collaborative_filtering/Assignment1/venv/lib/python3.10/site-packages/IPython/core/interactiveshell.py\", line 2961, in run_cell\n",
      "    result = self._run_cell(\n",
      "  File \"/home/agoniko/Desktop/Uni/DEEP_LEARNING/Neural_collaborative_filtering/Assignment1/venv/lib/python3.10/site-packages/IPython/core/interactiveshell.py\", line 3016, in _run_cell\n",
      "    result = runner(coro)\n",
      "  File \"/home/agoniko/Desktop/Uni/DEEP_LEARNING/Neural_collaborative_filtering/Assignment1/venv/lib/python3.10/site-packages/IPython/core/async_helpers.py\", line 129, in _pseudo_sync_runner\n",
      "    coro.send(None)\n",
      "  File \"/home/agoniko/Desktop/Uni/DEEP_LEARNING/Neural_collaborative_filtering/Assignment1/venv/lib/python3.10/site-packages/IPython/core/interactiveshell.py\", line 3221, in run_cell_async\n",
      "    has_raised = await self.run_ast_nodes(code_ast.body, cell_name,\n",
      "  File \"/home/agoniko/Desktop/Uni/DEEP_LEARNING/Neural_collaborative_filtering/Assignment1/venv/lib/python3.10/site-packages/IPython/core/interactiveshell.py\", line 3400, in run_ast_nodes\n",
      "    if await self.run_code(code, result, async_=asy):\n",
      "  File \"/home/agoniko/Desktop/Uni/DEEP_LEARNING/Neural_collaborative_filtering/Assignment1/venv/lib/python3.10/site-packages/IPython/core/interactiveshell.py\", line 3460, in run_code\n",
      "    exec(code_obj, self.user_global_ns, self.user_ns)\n",
      "  File \"/tmp/ipykernel_3930/2703268187.py\", line 1, in <module>\n",
      "    train_NeuMF(best_config)\n",
      "  File \"/tmp/ipykernel_3930/3013103305.py\", line 65, in train_NeuMF\n",
      "    tune.report(HitRate=HR)\n",
      "\n"
     ]
    }
   ],
   "source": [
    "train_NeuMF(best_config)"
   ]
  },
  {
   "cell_type": "code",
   "execution_count": null,
   "metadata": {},
   "outputs": [
    {
     "data": {
      "text/plain": [
       "(0.6224814422057264, 0.35206504761395885)"
      ]
     },
     "execution_count": 34,
     "metadata": {},
     "output_type": "execute_result"
    }
   ],
   "source": [
    "last_trained = torch.load(MODEL_PATH+\"NeuMF64_tuned.pt\")\n",
    "HR, NDCG = metrics(last_trained, test_loader, 10, device)\n",
    "HR, NDCG"
   ]
  },
  {
   "attachments": {},
   "cell_type": "markdown",
   "metadata": {},
   "source": [
    "## Local search"
   ]
  },
  {
   "cell_type": "code",
   "execution_count": null,
   "metadata": {},
   "outputs": [
    {
     "name": "stderr",
     "output_type": "stream",
     "text": [
      "Session not detected. You should not be calling `checkpoint_dir` outside `tuner.fit()` or while using the class API. \n",
      "  File \"/usr/lib/python3.10/runpy.py\", line 196, in _run_module_as_main\n",
      "    return _run_code(code, main_globals, None,\n",
      "  File \"/usr/lib/python3.10/runpy.py\", line 86, in _run_code\n",
      "    exec(code, run_globals)\n",
      "  File \"/home/agoniko/Desktop/Uni/DEEP_LEARNING/Neural_collaborative_filtering/Assignment1/venv/lib/python3.10/site-packages/ipykernel_launcher.py\", line 17, in <module>\n",
      "    app.launch_new_instance()\n",
      "  File \"/home/agoniko/Desktop/Uni/DEEP_LEARNING/Neural_collaborative_filtering/Assignment1/venv/lib/python3.10/site-packages/traitlets/config/application.py\", line 1043, in launch_instance\n",
      "    app.start()\n",
      "  File \"/home/agoniko/Desktop/Uni/DEEP_LEARNING/Neural_collaborative_filtering/Assignment1/venv/lib/python3.10/site-packages/ipykernel/kernelapp.py\", line 725, in start\n",
      "    self.io_loop.start()\n",
      "  File \"/home/agoniko/Desktop/Uni/DEEP_LEARNING/Neural_collaborative_filtering/Assignment1/venv/lib/python3.10/site-packages/tornado/platform/asyncio.py\", line 215, in start\n",
      "    self.asyncio_loop.run_forever()\n",
      "  File \"/usr/lib/python3.10/asyncio/base_events.py\", line 600, in run_forever\n",
      "    self._run_once()\n",
      "  File \"/usr/lib/python3.10/asyncio/base_events.py\", line 1896, in _run_once\n",
      "    handle._run()\n",
      "  File \"/usr/lib/python3.10/asyncio/events.py\", line 80, in _run\n",
      "    self._context.run(self._callback, *self._args)\n",
      "  File \"/home/agoniko/Desktop/Uni/DEEP_LEARNING/Neural_collaborative_filtering/Assignment1/venv/lib/python3.10/site-packages/ipykernel/kernelbase.py\", line 513, in dispatch_queue\n",
      "    await self.process_one()\n",
      "  File \"/home/agoniko/Desktop/Uni/DEEP_LEARNING/Neural_collaborative_filtering/Assignment1/venv/lib/python3.10/site-packages/ipykernel/kernelbase.py\", line 502, in process_one\n",
      "    await dispatch(*args)\n",
      "  File \"/home/agoniko/Desktop/Uni/DEEP_LEARNING/Neural_collaborative_filtering/Assignment1/venv/lib/python3.10/site-packages/ipykernel/kernelbase.py\", line 409, in dispatch_shell\n",
      "    await result\n",
      "  File \"/home/agoniko/Desktop/Uni/DEEP_LEARNING/Neural_collaborative_filtering/Assignment1/venv/lib/python3.10/site-packages/ipykernel/kernelbase.py\", line 729, in execute_request\n",
      "    reply_content = await reply_content\n",
      "  File \"/home/agoniko/Desktop/Uni/DEEP_LEARNING/Neural_collaborative_filtering/Assignment1/venv/lib/python3.10/site-packages/ipykernel/ipkernel.py\", line 422, in do_execute\n",
      "    res = shell.run_cell(\n",
      "  File \"/home/agoniko/Desktop/Uni/DEEP_LEARNING/Neural_collaborative_filtering/Assignment1/venv/lib/python3.10/site-packages/ipykernel/zmqshell.py\", line 540, in run_cell\n",
      "    return super().run_cell(*args, **kwargs)\n",
      "  File \"/home/agoniko/Desktop/Uni/DEEP_LEARNING/Neural_collaborative_filtering/Assignment1/venv/lib/python3.10/site-packages/IPython/core/interactiveshell.py\", line 2961, in run_cell\n",
      "    result = self._run_cell(\n",
      "  File \"/home/agoniko/Desktop/Uni/DEEP_LEARNING/Neural_collaborative_filtering/Assignment1/venv/lib/python3.10/site-packages/IPython/core/interactiveshell.py\", line 3016, in _run_cell\n",
      "    result = runner(coro)\n",
      "  File \"/home/agoniko/Desktop/Uni/DEEP_LEARNING/Neural_collaborative_filtering/Assignment1/venv/lib/python3.10/site-packages/IPython/core/async_helpers.py\", line 129, in _pseudo_sync_runner\n",
      "    coro.send(None)\n",
      "  File \"/home/agoniko/Desktop/Uni/DEEP_LEARNING/Neural_collaborative_filtering/Assignment1/venv/lib/python3.10/site-packages/IPython/core/interactiveshell.py\", line 3221, in run_cell_async\n",
      "    has_raised = await self.run_ast_nodes(code_ast.body, cell_name,\n",
      "  File \"/home/agoniko/Desktop/Uni/DEEP_LEARNING/Neural_collaborative_filtering/Assignment1/venv/lib/python3.10/site-packages/IPython/core/interactiveshell.py\", line 3400, in run_ast_nodes\n",
      "    if await self.run_code(code, result, async_=asy):\n",
      "  File \"/home/agoniko/Desktop/Uni/DEEP_LEARNING/Neural_collaborative_filtering/Assignment1/venv/lib/python3.10/site-packages/IPython/core/interactiveshell.py\", line 3460, in run_code\n",
      "    exec(code_obj, self.user_global_ns, self.user_ns)\n",
      "  File \"/tmp/ipykernel_59284/2806497183.py\", line 5, in <module>\n",
      "    train_NeuMF(local_config, nmf_model)\n",
      "  File \"/tmp/ipykernel_59284/63044464.py\", line 60, in train_NeuMF\n",
      "    with tune.checkpoint_dir(epoch) as checkpoint_dir:\n",
      "  File \"/usr/lib/python3.10/contextlib.py\", line 135, in __enter__\n",
      "    return next(self.gen)\n",
      "\n",
      "Session not detected. You should not be calling `report` outside `tuner.fit()` or while using the class API. \n",
      "  File \"/usr/lib/python3.10/runpy.py\", line 196, in _run_module_as_main\n",
      "    return _run_code(code, main_globals, None,\n",
      "  File \"/usr/lib/python3.10/runpy.py\", line 86, in _run_code\n",
      "    exec(code, run_globals)\n",
      "  File \"/home/agoniko/Desktop/Uni/DEEP_LEARNING/Neural_collaborative_filtering/Assignment1/venv/lib/python3.10/site-packages/ipykernel_launcher.py\", line 17, in <module>\n",
      "    app.launch_new_instance()\n",
      "  File \"/home/agoniko/Desktop/Uni/DEEP_LEARNING/Neural_collaborative_filtering/Assignment1/venv/lib/python3.10/site-packages/traitlets/config/application.py\", line 1043, in launch_instance\n",
      "    app.start()\n",
      "  File \"/home/agoniko/Desktop/Uni/DEEP_LEARNING/Neural_collaborative_filtering/Assignment1/venv/lib/python3.10/site-packages/ipykernel/kernelapp.py\", line 725, in start\n",
      "    self.io_loop.start()\n",
      "  File \"/home/agoniko/Desktop/Uni/DEEP_LEARNING/Neural_collaborative_filtering/Assignment1/venv/lib/python3.10/site-packages/tornado/platform/asyncio.py\", line 215, in start\n",
      "    self.asyncio_loop.run_forever()\n",
      "  File \"/usr/lib/python3.10/asyncio/base_events.py\", line 600, in run_forever\n",
      "    self._run_once()\n",
      "  File \"/usr/lib/python3.10/asyncio/base_events.py\", line 1896, in _run_once\n",
      "    handle._run()\n",
      "  File \"/usr/lib/python3.10/asyncio/events.py\", line 80, in _run\n",
      "    self._context.run(self._callback, *self._args)\n",
      "  File \"/home/agoniko/Desktop/Uni/DEEP_LEARNING/Neural_collaborative_filtering/Assignment1/venv/lib/python3.10/site-packages/ipykernel/kernelbase.py\", line 513, in dispatch_queue\n",
      "    await self.process_one()\n",
      "  File \"/home/agoniko/Desktop/Uni/DEEP_LEARNING/Neural_collaborative_filtering/Assignment1/venv/lib/python3.10/site-packages/ipykernel/kernelbase.py\", line 502, in process_one\n",
      "    await dispatch(*args)\n",
      "  File \"/home/agoniko/Desktop/Uni/DEEP_LEARNING/Neural_collaborative_filtering/Assignment1/venv/lib/python3.10/site-packages/ipykernel/kernelbase.py\", line 409, in dispatch_shell\n",
      "    await result\n",
      "  File \"/home/agoniko/Desktop/Uni/DEEP_LEARNING/Neural_collaborative_filtering/Assignment1/venv/lib/python3.10/site-packages/ipykernel/kernelbase.py\", line 729, in execute_request\n",
      "    reply_content = await reply_content\n",
      "  File \"/home/agoniko/Desktop/Uni/DEEP_LEARNING/Neural_collaborative_filtering/Assignment1/venv/lib/python3.10/site-packages/ipykernel/ipkernel.py\", line 422, in do_execute\n",
      "    res = shell.run_cell(\n",
      "  File \"/home/agoniko/Desktop/Uni/DEEP_LEARNING/Neural_collaborative_filtering/Assignment1/venv/lib/python3.10/site-packages/ipykernel/zmqshell.py\", line 540, in run_cell\n",
      "    return super().run_cell(*args, **kwargs)\n",
      "  File \"/home/agoniko/Desktop/Uni/DEEP_LEARNING/Neural_collaborative_filtering/Assignment1/venv/lib/python3.10/site-packages/IPython/core/interactiveshell.py\", line 2961, in run_cell\n",
      "    result = self._run_cell(\n",
      "  File \"/home/agoniko/Desktop/Uni/DEEP_LEARNING/Neural_collaborative_filtering/Assignment1/venv/lib/python3.10/site-packages/IPython/core/interactiveshell.py\", line 3016, in _run_cell\n",
      "    result = runner(coro)\n",
      "  File \"/home/agoniko/Desktop/Uni/DEEP_LEARNING/Neural_collaborative_filtering/Assignment1/venv/lib/python3.10/site-packages/IPython/core/async_helpers.py\", line 129, in _pseudo_sync_runner\n",
      "    coro.send(None)\n",
      "  File \"/home/agoniko/Desktop/Uni/DEEP_LEARNING/Neural_collaborative_filtering/Assignment1/venv/lib/python3.10/site-packages/IPython/core/interactiveshell.py\", line 3221, in run_cell_async\n",
      "    has_raised = await self.run_ast_nodes(code_ast.body, cell_name,\n",
      "  File \"/home/agoniko/Desktop/Uni/DEEP_LEARNING/Neural_collaborative_filtering/Assignment1/venv/lib/python3.10/site-packages/IPython/core/interactiveshell.py\", line 3400, in run_ast_nodes\n",
      "    if await self.run_code(code, result, async_=asy):\n",
      "  File \"/home/agoniko/Desktop/Uni/DEEP_LEARNING/Neural_collaborative_filtering/Assignment1/venv/lib/python3.10/site-packages/IPython/core/interactiveshell.py\", line 3460, in run_code\n",
      "    exec(code_obj, self.user_global_ns, self.user_ns)\n",
      "  File \"/tmp/ipykernel_59284/2806497183.py\", line 5, in <module>\n",
      "    train_NeuMF(local_config, nmf_model)\n",
      "  File \"/tmp/ipykernel_59284/63044464.py\", line 64, in train_NeuMF\n",
      "    tune.report(HitRate=HR)\n",
      "\n"
     ]
    },
    {
     "name": "stdout",
     "output_type": "stream",
     "text": [
      "Epoch 000 time to train: 00: 00: 11\n",
      "HR: 0.656\tNDCG: 0.375\n",
      "Epoch 001 time to train: 00: 00: 12\n",
      "HR: 0.656\tNDCG: 0.375\n",
      "Epoch 002 time to train: 00: 00: 12\n",
      "HR: 0.655\tNDCG: 0.374\n"
     ]
    },
    {
     "ename": "KeyboardInterrupt",
     "evalue": "",
     "output_type": "error",
     "traceback": [
      "\u001b[0;31m---------------------------------------------------------------------------\u001b[0m",
      "\u001b[0;31mKeyboardInterrupt\u001b[0m                         Traceback (most recent call last)",
      "Cell \u001b[0;32mIn[28], line 5\u001b[0m\n\u001b[1;32m      2\u001b[0m local_config[\u001b[39m'\u001b[39m\u001b[39mlr\u001b[39m\u001b[39m'\u001b[39m] \u001b[39m=\u001b[39m \u001b[39m0.0001\u001b[39m\n\u001b[1;32m      4\u001b[0m nmf_model \u001b[39m=\u001b[39m torch\u001b[39m.\u001b[39mload(MODEL_PATH\u001b[39m+\u001b[39m\u001b[39m\"\u001b[39m\u001b[39mNeuMF64_test.pt\u001b[39m\u001b[39m\"\u001b[39m)\n\u001b[0;32m----> 5\u001b[0m train_NeuMF(local_config, nmf_model)\n",
      "Cell \u001b[0;32mIn[26], line 21\u001b[0m, in \u001b[0;36mtrain_NeuMF\u001b[0;34m(config, model)\u001b[0m\n\u001b[1;32m     18\u001b[0m model\u001b[39m.\u001b[39mtrain()  \u001b[39m# Enable dropout (if present).\u001b[39;00m\n\u001b[1;32m     19\u001b[0m start_time \u001b[39m=\u001b[39m time\u001b[39m.\u001b[39mtime()\n\u001b[0;32m---> 21\u001b[0m \u001b[39mfor\u001b[39;00m user, item, label \u001b[39min\u001b[39;00m train_loader:\n\u001b[1;32m     22\u001b[0m     user \u001b[39m=\u001b[39m user\u001b[39m.\u001b[39mto(device)\n\u001b[1;32m     23\u001b[0m     item \u001b[39m=\u001b[39m item\u001b[39m.\u001b[39mto(device)\n",
      "File \u001b[0;32m~/Desktop/Uni/DEEP_LEARNING/Neural_collaborative_filtering/Assignment1/venv/lib/python3.10/site-packages/torch/utils/data/dataloader.py:628\u001b[0m, in \u001b[0;36m_BaseDataLoaderIter.__next__\u001b[0;34m(self)\u001b[0m\n\u001b[1;32m    625\u001b[0m \u001b[39mif\u001b[39;00m \u001b[39mself\u001b[39m\u001b[39m.\u001b[39m_sampler_iter \u001b[39mis\u001b[39;00m \u001b[39mNone\u001b[39;00m:\n\u001b[1;32m    626\u001b[0m     \u001b[39m# TODO(https://github.com/pytorch/pytorch/issues/76750)\u001b[39;00m\n\u001b[1;32m    627\u001b[0m     \u001b[39mself\u001b[39m\u001b[39m.\u001b[39m_reset()  \u001b[39m# type: ignore[call-arg]\u001b[39;00m\n\u001b[0;32m--> 628\u001b[0m data \u001b[39m=\u001b[39m \u001b[39mself\u001b[39;49m\u001b[39m.\u001b[39;49m_next_data()\n\u001b[1;32m    629\u001b[0m \u001b[39mself\u001b[39m\u001b[39m.\u001b[39m_num_yielded \u001b[39m+\u001b[39m\u001b[39m=\u001b[39m \u001b[39m1\u001b[39m\n\u001b[1;32m    630\u001b[0m \u001b[39mif\u001b[39;00m \u001b[39mself\u001b[39m\u001b[39m.\u001b[39m_dataset_kind \u001b[39m==\u001b[39m _DatasetKind\u001b[39m.\u001b[39mIterable \u001b[39mand\u001b[39;00m \\\n\u001b[1;32m    631\u001b[0m         \u001b[39mself\u001b[39m\u001b[39m.\u001b[39m_IterableDataset_len_called \u001b[39mis\u001b[39;00m \u001b[39mnot\u001b[39;00m \u001b[39mNone\u001b[39;00m \u001b[39mand\u001b[39;00m \\\n\u001b[1;32m    632\u001b[0m         \u001b[39mself\u001b[39m\u001b[39m.\u001b[39m_num_yielded \u001b[39m>\u001b[39m \u001b[39mself\u001b[39m\u001b[39m.\u001b[39m_IterableDataset_len_called:\n",
      "File \u001b[0;32m~/Desktop/Uni/DEEP_LEARNING/Neural_collaborative_filtering/Assignment1/venv/lib/python3.10/site-packages/torch/utils/data/dataloader.py:1316\u001b[0m, in \u001b[0;36m_MultiProcessingDataLoaderIter._next_data\u001b[0;34m(self)\u001b[0m\n\u001b[1;32m   1313\u001b[0m     \u001b[39mreturn\u001b[39;00m \u001b[39mself\u001b[39m\u001b[39m.\u001b[39m_process_data(data)\n\u001b[1;32m   1315\u001b[0m \u001b[39massert\u001b[39;00m \u001b[39mnot\u001b[39;00m \u001b[39mself\u001b[39m\u001b[39m.\u001b[39m_shutdown \u001b[39mand\u001b[39;00m \u001b[39mself\u001b[39m\u001b[39m.\u001b[39m_tasks_outstanding \u001b[39m>\u001b[39m \u001b[39m0\u001b[39m\n\u001b[0;32m-> 1316\u001b[0m idx, data \u001b[39m=\u001b[39m \u001b[39mself\u001b[39;49m\u001b[39m.\u001b[39;49m_get_data()\n\u001b[1;32m   1317\u001b[0m \u001b[39mself\u001b[39m\u001b[39m.\u001b[39m_tasks_outstanding \u001b[39m-\u001b[39m\u001b[39m=\u001b[39m \u001b[39m1\u001b[39m\n\u001b[1;32m   1318\u001b[0m \u001b[39mif\u001b[39;00m \u001b[39mself\u001b[39m\u001b[39m.\u001b[39m_dataset_kind \u001b[39m==\u001b[39m _DatasetKind\u001b[39m.\u001b[39mIterable:\n\u001b[1;32m   1319\u001b[0m     \u001b[39m# Check for _IterableDatasetStopIteration\u001b[39;00m\n",
      "File \u001b[0;32m~/Desktop/Uni/DEEP_LEARNING/Neural_collaborative_filtering/Assignment1/venv/lib/python3.10/site-packages/torch/utils/data/dataloader.py:1282\u001b[0m, in \u001b[0;36m_MultiProcessingDataLoaderIter._get_data\u001b[0;34m(self)\u001b[0m\n\u001b[1;32m   1278\u001b[0m     \u001b[39m# In this case, `self._data_queue` is a `queue.Queue`,. But we don't\u001b[39;00m\n\u001b[1;32m   1279\u001b[0m     \u001b[39m# need to call `.task_done()` because we don't use `.join()`.\u001b[39;00m\n\u001b[1;32m   1280\u001b[0m \u001b[39melse\u001b[39;00m:\n\u001b[1;32m   1281\u001b[0m     \u001b[39mwhile\u001b[39;00m \u001b[39mTrue\u001b[39;00m:\n\u001b[0;32m-> 1282\u001b[0m         success, data \u001b[39m=\u001b[39m \u001b[39mself\u001b[39;49m\u001b[39m.\u001b[39;49m_try_get_data()\n\u001b[1;32m   1283\u001b[0m         \u001b[39mif\u001b[39;00m success:\n\u001b[1;32m   1284\u001b[0m             \u001b[39mreturn\u001b[39;00m data\n",
      "File \u001b[0;32m~/Desktop/Uni/DEEP_LEARNING/Neural_collaborative_filtering/Assignment1/venv/lib/python3.10/site-packages/torch/utils/data/dataloader.py:1120\u001b[0m, in \u001b[0;36m_MultiProcessingDataLoaderIter._try_get_data\u001b[0;34m(self, timeout)\u001b[0m\n\u001b[1;32m   1107\u001b[0m \u001b[39mdef\u001b[39;00m \u001b[39m_try_get_data\u001b[39m(\u001b[39mself\u001b[39m, timeout\u001b[39m=\u001b[39m_utils\u001b[39m.\u001b[39mMP_STATUS_CHECK_INTERVAL):\n\u001b[1;32m   1108\u001b[0m     \u001b[39m# Tries to fetch data from `self._data_queue` once for a given timeout.\u001b[39;00m\n\u001b[1;32m   1109\u001b[0m     \u001b[39m# This can also be used as inner loop of fetching without timeout, with\u001b[39;00m\n\u001b[0;32m   (...)\u001b[0m\n\u001b[1;32m   1117\u001b[0m     \u001b[39m# Returns a 2-tuple:\u001b[39;00m\n\u001b[1;32m   1118\u001b[0m     \u001b[39m#   (bool: whether successfully get data, any: data if successful else None)\u001b[39;00m\n\u001b[1;32m   1119\u001b[0m     \u001b[39mtry\u001b[39;00m:\n\u001b[0;32m-> 1120\u001b[0m         data \u001b[39m=\u001b[39m \u001b[39mself\u001b[39;49m\u001b[39m.\u001b[39;49m_data_queue\u001b[39m.\u001b[39;49mget(timeout\u001b[39m=\u001b[39;49mtimeout)\n\u001b[1;32m   1121\u001b[0m         \u001b[39mreturn\u001b[39;00m (\u001b[39mTrue\u001b[39;00m, data)\n\u001b[1;32m   1122\u001b[0m     \u001b[39mexcept\u001b[39;00m \u001b[39mException\u001b[39;00m \u001b[39mas\u001b[39;00m e:\n\u001b[1;32m   1123\u001b[0m         \u001b[39m# At timeout and error, we manually check whether any worker has\u001b[39;00m\n\u001b[1;32m   1124\u001b[0m         \u001b[39m# failed. Note that this is the only mechanism for Windows to detect\u001b[39;00m\n\u001b[1;32m   1125\u001b[0m         \u001b[39m# worker failures.\u001b[39;00m\n",
      "File \u001b[0;32m/usr/lib/python3.10/multiprocessing/queues.py:122\u001b[0m, in \u001b[0;36mQueue.get\u001b[0;34m(self, block, timeout)\u001b[0m\n\u001b[1;32m    120\u001b[0m         \u001b[39mself\u001b[39m\u001b[39m.\u001b[39m_rlock\u001b[39m.\u001b[39mrelease()\n\u001b[1;32m    121\u001b[0m \u001b[39m# unserialize the data after having released the lock\u001b[39;00m\n\u001b[0;32m--> 122\u001b[0m \u001b[39mreturn\u001b[39;00m _ForkingPickler\u001b[39m.\u001b[39;49mloads(res)\n",
      "File \u001b[0;32m~/Desktop/Uni/DEEP_LEARNING/Neural_collaborative_filtering/Assignment1/venv/lib/python3.10/site-packages/torch/multiprocessing/reductions.py:305\u001b[0m, in \u001b[0;36mrebuild_storage_fd\u001b[0;34m(cls, df, size)\u001b[0m\n\u001b[1;32m    304\u001b[0m \u001b[39mdef\u001b[39;00m \u001b[39mrebuild_storage_fd\u001b[39m(\u001b[39mcls\u001b[39m, df, size):\n\u001b[0;32m--> 305\u001b[0m     fd \u001b[39m=\u001b[39m df\u001b[39m.\u001b[39;49mdetach()\n\u001b[1;32m    306\u001b[0m     \u001b[39mtry\u001b[39;00m:\n\u001b[1;32m    307\u001b[0m         storage \u001b[39m=\u001b[39m storage_from_cache(\u001b[39mcls\u001b[39m, fd_id(fd))\n",
      "File \u001b[0;32m/usr/lib/python3.10/multiprocessing/resource_sharer.py:57\u001b[0m, in \u001b[0;36mDupFd.detach\u001b[0;34m(self)\u001b[0m\n\u001b[1;32m     55\u001b[0m \u001b[39mdef\u001b[39;00m \u001b[39mdetach\u001b[39m(\u001b[39mself\u001b[39m):\n\u001b[1;32m     56\u001b[0m \u001b[39m    \u001b[39m\u001b[39m'''Get the fd.  This should only be called once.'''\u001b[39;00m\n\u001b[0;32m---> 57\u001b[0m     \u001b[39mwith\u001b[39;00m _resource_sharer\u001b[39m.\u001b[39;49mget_connection(\u001b[39mself\u001b[39;49m\u001b[39m.\u001b[39;49m_id) \u001b[39mas\u001b[39;00m conn:\n\u001b[1;32m     58\u001b[0m         \u001b[39mreturn\u001b[39;00m reduction\u001b[39m.\u001b[39mrecv_handle(conn)\n",
      "File \u001b[0;32m/usr/lib/python3.10/multiprocessing/resource_sharer.py:86\u001b[0m, in \u001b[0;36m_ResourceSharer.get_connection\u001b[0;34m(ident)\u001b[0m\n\u001b[1;32m     84\u001b[0m \u001b[39mfrom\u001b[39;00m \u001b[39m.\u001b[39;00m\u001b[39mconnection\u001b[39;00m \u001b[39mimport\u001b[39;00m Client\n\u001b[1;32m     85\u001b[0m address, key \u001b[39m=\u001b[39m ident\n\u001b[0;32m---> 86\u001b[0m c \u001b[39m=\u001b[39m Client(address, authkey\u001b[39m=\u001b[39;49mprocess\u001b[39m.\u001b[39;49mcurrent_process()\u001b[39m.\u001b[39;49mauthkey)\n\u001b[1;32m     87\u001b[0m c\u001b[39m.\u001b[39msend((key, os\u001b[39m.\u001b[39mgetpid()))\n\u001b[1;32m     88\u001b[0m \u001b[39mreturn\u001b[39;00m c\n",
      "File \u001b[0;32m/usr/lib/python3.10/multiprocessing/connection.py:502\u001b[0m, in \u001b[0;36mClient\u001b[0;34m(address, family, authkey)\u001b[0m\n\u001b[1;32m    500\u001b[0m     c \u001b[39m=\u001b[39m PipeClient(address)\n\u001b[1;32m    501\u001b[0m \u001b[39melse\u001b[39;00m:\n\u001b[0;32m--> 502\u001b[0m     c \u001b[39m=\u001b[39m SocketClient(address)\n\u001b[1;32m    504\u001b[0m \u001b[39mif\u001b[39;00m authkey \u001b[39mis\u001b[39;00m \u001b[39mnot\u001b[39;00m \u001b[39mNone\u001b[39;00m \u001b[39mand\u001b[39;00m \u001b[39mnot\u001b[39;00m \u001b[39misinstance\u001b[39m(authkey, \u001b[39mbytes\u001b[39m):\n\u001b[1;32m    505\u001b[0m     \u001b[39mraise\u001b[39;00m \u001b[39mTypeError\u001b[39;00m(\u001b[39m'\u001b[39m\u001b[39mauthkey should be a byte string\u001b[39m\u001b[39m'\u001b[39m)\n",
      "File \u001b[0;32m/usr/lib/python3.10/multiprocessing/connection.py:631\u001b[0m, in \u001b[0;36mSocketClient\u001b[0;34m(address)\u001b[0m\n\u001b[1;32m    629\u001b[0m s\u001b[39m.\u001b[39msetblocking(\u001b[39mTrue\u001b[39;00m)\n\u001b[1;32m    630\u001b[0m s\u001b[39m.\u001b[39mconnect(address)\n\u001b[0;32m--> 631\u001b[0m \u001b[39mreturn\u001b[39;00m Connection(s\u001b[39m.\u001b[39;49mdetach())\n",
      "\u001b[0;31mKeyboardInterrupt\u001b[0m: "
     ]
    }
   ],
   "source": [
    "local_config = best_config.copy()\n",
    "local_config['lr'] = 0.0001\n",
    "\n",
    "nmf_model = torch.load(MODEL_PATH+\"NeuMF64_test.pt\")\n",
    "train_NeuMF(local_config, nmf_model)"
   ]
  }
 ],
 "metadata": {
  "kernelspec": {
   "display_name": "venv",
   "language": "python",
   "name": "python3"
  },
  "language_info": {
   "codemirror_mode": {
    "name": "ipython",
    "version": 3
   },
   "file_extension": ".py",
   "mimetype": "text/x-python",
   "name": "python",
   "nbconvert_exporter": "python",
   "pygments_lexer": "ipython3",
   "version": "3.10.6"
  },
  "orig_nbformat": 4
 },
 "nbformat": 4,
 "nbformat_minor": 2
}
